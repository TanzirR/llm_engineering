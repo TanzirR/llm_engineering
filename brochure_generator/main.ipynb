{
 "cells": [
  {
   "cell_type": "code",
   "execution_count": 2,
   "id": "94d093fd",
   "metadata": {},
   "outputs": [],
   "source": [
    "import os\n",
    "import requests\n",
    "import json\n",
    "from typing import List\n",
    "from dotenv import load_dotenv\n",
    "from bs4 import BeautifulSoup\n",
    "from IPython.display import Markdown, display, update_display\n",
    "from openai import OpenAI"
   ]
  },
  {
   "cell_type": "code",
   "execution_count": 3,
   "id": "b40ae811",
   "metadata": {},
   "outputs": [
    {
     "name": "stdout",
     "output_type": "stream",
     "text": [
      "API key looks good so far\n"
     ]
    }
   ],
   "source": [
    "# Initialize and constants\n",
    "\n",
    "load_dotenv(override=True)\n",
    "api_key = os.getenv('OPENAI_API_KEY')\n",
    "\n",
    "if api_key and api_key.startswith('sk-proj-') and len(api_key)>10:\n",
    "    print(\"API key looks good so far\")\n",
    "else:\n",
    "    print(\"There might be a problem with your API key? Please visit the troubleshooting notebook!\")\n",
    "    \n",
    "MODEL = 'gpt-4o-mini'\n",
    "openai = OpenAI()"
   ]
  },
  {
   "cell_type": "code",
   "execution_count": 4,
   "id": "fc1e993d",
   "metadata": {},
   "outputs": [],
   "source": [
    "# A class to represent a Webpage\n",
    "\n",
    "# Some websites need you to use proper headers when fetching them:\n",
    "headers = {\n",
    " \"User-Agent\": \"Mozilla/5.0 (Windows NT 10.0; Win64; x64) AppleWebKit/537.36 (KHTML, like Gecko) Chrome/117.0.0.0 Safari/537.36\"\n",
    "}\n",
    "\n",
    "class Website:\n",
    "    \"\"\"\n",
    "    A utility class to represent a Website that we have scraped, now with links\n",
    "    \"\"\"\n",
    "\n",
    "    def __init__(self, url):\n",
    "        self.url = url\n",
    "        response = requests.get(url, headers=headers)\n",
    "        self.body = response.content\n",
    "        soup = BeautifulSoup(self.body, 'html.parser')\n",
    "        self.title = soup.title.string if soup.title else \"No title found\"\n",
    "        if soup.body:\n",
    "            for irrelevant in soup.body([\"script\", \"style\", \"img\", \"input\"]):\n",
    "                irrelevant.decompose()\n",
    "            self.text = soup.body.get_text(separator=\"\\n\", strip=True)\n",
    "        else:\n",
    "            self.text = \"\"\n",
    "        links = [link.get('href') for link in soup.find_all('a')]\n",
    "        self.links = [link for link in links if link]\n",
    "\n",
    "    def get_contents(self):\n",
    "        return f\"Webpage Title:\\n{self.title}\\nWebpage Contents:\\n{self.text}\\n\\n\""
   ]
  },
  {
   "cell_type": "markdown",
   "id": "3a612f9b",
   "metadata": {},
   "source": [
    "##### First step: Have GPT-4o-mini figure out which links are relevant\n",
    "##### Use a call to gpt-4o-mini to read the links on a webpage, and respond in structured JSON.\n",
    "It should decide which links are relevant, and replace relative links such as \"/about\" with \"https://company.com/about\".\n",
    "We will use \"one shot prompting\" in which we provide an example of how it should respond in the prompt."
   ]
  },
  {
   "cell_type": "code",
   "execution_count": 5,
   "id": "ec66a940",
   "metadata": {},
   "outputs": [],
   "source": [
    "link_system_prompt = \"You are provided with a list of links found on a webpage. \\\n",
    "You are able to decide which of the links would be most relevant to include in a brochure about the company, \\\n",
    "such as links to an About page, or a Company page, or Careers/Jobs pages.\\n\"\n",
    "link_system_prompt += \"You should respond in JSON as in this example:\"\n",
    "link_system_prompt += \"\"\"\n",
    "{\n",
    "    \"links\": [\n",
    "        {\"type\": \"about page\", \"url\": \"https://full.url/goes/here/about\"},\n",
    "        {\"type\": \"careers page\", \"url\": \"https://another.full.url/careers\"}\n",
    "    ]\n",
    "}\n",
    "\"\"\""
   ]
  },
  {
   "cell_type": "code",
   "execution_count": 6,
   "id": "4cfbe6de",
   "metadata": {},
   "outputs": [
    {
     "name": "stdout",
     "output_type": "stream",
     "text": [
      "You are provided with a list of links found on a webpage. You are able to decide which of the links would be most relevant to include in a brochure about the company, such as links to an About page, or a Company page, or Careers/Jobs pages.\n",
      "You should respond in JSON as in this example:\n",
      "{\n",
      "    \"links\": [\n",
      "        {\"type\": \"about page\", \"url\": \"https://full.url/goes/here/about\"},\n",
      "        {\"type\": \"careers page\", \"url\": \"https://another.full.url/careers\"}\n",
      "    ]\n",
      "}\n",
      "\n"
     ]
    }
   ],
   "source": [
    "print(link_system_prompt)"
   ]
  },
  {
   "cell_type": "code",
   "execution_count": 7,
   "id": "407d42cc",
   "metadata": {},
   "outputs": [],
   "source": [
    "def get_links_user_prompt(website):\n",
    "    user_prompt = f\"Here is the list of links on the website of {website.url} - \"\n",
    "    user_prompt += \"please decide which of these are relevant web links for a brochure about the company, respond with the full https URL in JSON format. \\\n",
    "Do not include Terms of Service, Privacy, email links.\\n\"\n",
    "    user_prompt += \"Links (some might be relative links):\\n\"\n",
    "    user_prompt += \"\\n\".join(website.links)\n",
    "    return user_prompt"
   ]
  },
  {
   "cell_type": "code",
   "execution_count": 8,
   "id": "841dcbb1",
   "metadata": {},
   "outputs": [],
   "source": [
    "def get_links(url):\n",
    "    website = Website(url)\n",
    "    response = openai.chat.completions.create(\n",
    "        model=MODEL,\n",
    "        messages=[\n",
    "            {\"role\": \"system\", \"content\": link_system_prompt},\n",
    "            {\"role\": \"user\", \"content\": get_links_user_prompt(website)}\n",
    "      ],\n",
    "        response_format={\"type\": \"json_object\"}\n",
    "    )\n",
    "    result = response.choices[0].message.content\n",
    "    return json.loads(result)"
   ]
  },
  {
   "cell_type": "code",
   "execution_count": 16,
   "id": "2988b3f6",
   "metadata": {},
   "outputs": [
    {
     "data": {
      "text/plain": [
       "['/',\n",
       " '/models',\n",
       " '/datasets',\n",
       " '/spaces',\n",
       " '/docs',\n",
       " '/enterprise',\n",
       " '/pricing',\n",
       " '/login',\n",
       " '/join',\n",
       " '/spaces',\n",
       " '/models',\n",
       " '/microsoft/VibeVoice-1.5B',\n",
       " '/xai-org/grok-2',\n",
       " '/openbmb/MiniCPM-V-4_5',\n",
       " '/Qwen/Qwen-Image-Edit',\n",
       " '/deepseek-ai/DeepSeek-V3.1',\n",
       " '/models',\n",
       " '/spaces/enzostvs/deepsite',\n",
       " '/spaces/zerogpu-aoti/wan2-2-fp8da-aoti-faster',\n",
       " '/spaces/syncora/synthetic-generation',\n",
       " '/spaces/multimodalart/Qwen-Image-Edit-Fast',\n",
       " '/spaces/Qwen/Qwen-Image-Edit',\n",
       " '/spaces',\n",
       " '/datasets/syncora/developer-productivity-simulated-behavioral-data',\n",
       " '/datasets/fka/awesome-chatgpt-prompts',\n",
       " '/datasets/syncora/synthetic-healthcare-admissions',\n",
       " '/datasets/openai/healthbench',\n",
       " '/datasets/nvidia/Nemotron-Post-Training-Dataset-v2',\n",
       " '/datasets',\n",
       " '/join',\n",
       " '/pricing#endpoints',\n",
       " '/pricing#spaces',\n",
       " '/pricing',\n",
       " '/enterprise',\n",
       " '/enterprise',\n",
       " '/enterprise',\n",
       " '/enterprise',\n",
       " '/enterprise',\n",
       " '/enterprise',\n",
       " '/enterprise',\n",
       " '/allenai',\n",
       " '/facebook',\n",
       " '/amazon',\n",
       " '/google',\n",
       " '/Intel',\n",
       " '/microsoft',\n",
       " '/grammarly',\n",
       " '/Writer',\n",
       " '/docs/transformers',\n",
       " '/docs/diffusers',\n",
       " '/docs/safetensors',\n",
       " '/docs/huggingface_hub',\n",
       " '/docs/tokenizers',\n",
       " '/docs/trl',\n",
       " '/docs/transformers.js',\n",
       " '/docs/smolagents',\n",
       " '/docs/peft',\n",
       " '/docs/datasets',\n",
       " '/docs/text-generation-inference',\n",
       " '/docs/accelerate',\n",
       " '/models',\n",
       " '/datasets',\n",
       " '/spaces',\n",
       " '/changelog',\n",
       " 'https://endpoints.huggingface.co',\n",
       " '/chat',\n",
       " '/huggingface',\n",
       " '/brand',\n",
       " '/terms-of-service',\n",
       " '/privacy',\n",
       " 'https://apply.workable.com/huggingface/',\n",
       " 'mailto:press@huggingface.co',\n",
       " '/learn',\n",
       " '/docs',\n",
       " '/blog',\n",
       " 'https://discuss.huggingface.co',\n",
       " 'https://status.huggingface.co/',\n",
       " 'https://github.com/huggingface',\n",
       " 'https://twitter.com/huggingface',\n",
       " 'https://www.linkedin.com/company/huggingface/',\n",
       " '/join/discord']"
      ]
     },
     "execution_count": 16,
     "metadata": {},
     "output_type": "execute_result"
    }
   ],
   "source": [
    "huggingface = Website(\"https://huggingface.co\")\n",
    "huggingface.links"
   ]
  },
  {
   "cell_type": "code",
   "execution_count": 17,
   "id": "e2b4c21c",
   "metadata": {},
   "outputs": [
    {
     "data": {
      "text/plain": [
       "{'links': [{'type': 'about page', 'url': 'https://huggingface.co/huggingface'},\n",
       "  {'type': 'careers page', 'url': 'https://apply.workable.com/huggingface/'},\n",
       "  {'type': 'enterprise page', 'url': 'https://huggingface.co/enterprise'},\n",
       "  {'type': 'blog page', 'url': 'https://huggingface.co/blog'},\n",
       "  {'type': 'community page', 'url': 'https://discuss.huggingface.co'},\n",
       "  {'type': 'GitHub page', 'url': 'https://github.com/huggingface'},\n",
       "  {'type': 'Twitter page', 'url': 'https://twitter.com/huggingface'},\n",
       "  {'type': 'LinkedIn page',\n",
       "   'url': 'https://www.linkedin.com/company/huggingface/'}]}"
      ]
     },
     "execution_count": 17,
     "metadata": {},
     "output_type": "execute_result"
    }
   ],
   "source": [
    "get_links(\"https://huggingface.co\")"
   ]
  },
  {
   "cell_type": "markdown",
   "id": "30785699",
   "metadata": {},
   "source": [
    "##### Second step: Make the brochure\n",
    "\n",
    "Assemble all the details into another gtp4-o prompt"
   ]
  },
  {
   "cell_type": "code",
   "execution_count": 9,
   "id": "07621078",
   "metadata": {},
   "outputs": [],
   "source": [
    "def get_all_details(url):\n",
    "    result = \"Landing page:\\n\"\n",
    "    result += Website(url).get_contents()\n",
    "    links = get_links(url)\n",
    "    print(\"Found links:\", links)\n",
    "    for link in links[\"links\"]:\n",
    "        result += f\"\\n\\n{link['type']}\\n\"\n",
    "        result += Website(link[\"url\"]).get_contents()\n",
    "    return result"
   ]
  },
  {
   "cell_type": "code",
   "execution_count": 10,
   "id": "1a5c7495",
   "metadata": {},
   "outputs": [],
   "source": [
    "system_prompt = \"You are an assistant that analyzes the contents of several relevant pages from a company website \\\n",
    "and creates a short brochure about the company for prospective customers, investors and recruits. Respond in markdown.\\\n",
    "Include details of company culture, customers and careers/jobs if you have the information.\"\n",
    "\n",
    "# Or uncomment the lines below for a more humorous brochure - this demonstrates how easy it is to incorporate 'tone':\n",
    "\n",
    "# system_prompt = \"You are an assistant that analyzes the contents of several relevant pages from a company website \\\n",
    "# and creates a short humorous, entertaining, jokey brochure about the company for prospective customers, investors and recruits. Respond in markdown.\\\n",
    "# Include details of company culture, customers and careers/jobs if you have the information.\""
   ]
  },
  {
   "cell_type": "code",
   "execution_count": 11,
   "id": "89d72985",
   "metadata": {},
   "outputs": [],
   "source": [
    "def get_brochure_user_prompt(company_name, url):\n",
    "    user_prompt = f\"You are looking at a company called: {company_name}\\n\"\n",
    "    user_prompt += f\"Here are the contents of its landing page and other relevant pages; use this information to build a short brochure of the company in markdown.\\n\"\n",
    "    user_prompt += get_all_details(url)\n",
    "    user_prompt = user_prompt[:5_000] # Truncate if more than 5,000 characters\n",
    "    return user_prompt"
   ]
  },
  {
   "cell_type": "code",
   "execution_count": 22,
   "id": "693941ab",
   "metadata": {},
   "outputs": [
    {
     "name": "stdout",
     "output_type": "stream",
     "text": [
      "Found links: {'links': [{'type': 'about page', 'url': 'https://huggingface.co'}, {'type': 'careers page', 'url': 'https://apply.workable.com/huggingface/'}, {'type': 'company page', 'url': 'https://www.linkedin.com/company/huggingface/'}, {'type': 'blog page', 'url': 'https://huggingface.co/blog'}, {'type': 'docs page', 'url': 'https://huggingface.co/docs'}]}\n"
     ]
    },
    {
     "data": {
      "text/plain": [
       "'You are looking at a company called: HuggingFace\\nHere are the contents of its landing page and other relevant pages; use this information to build a short brochure of the company in markdown.\\nLanding page:\\nWebpage Title:\\nHugging Face – The AI community building the future.\\nWebpage Contents:\\nHugging Face\\nModels\\nDatasets\\nSpaces\\nCommunity\\nDocs\\nEnterprise\\nPricing\\nLog In\\nSign Up\\nThe AI community building the future.\\nThe platform where the machine learning community collaborates on models, datasets, and applications.\\nExplore AI Apps\\nor\\nBrowse 1M+ models\\nTrending on\\nthis week\\nModels\\nmicrosoft/VibeVoice-1.5B\\nUpdated\\n3 days ago\\n•\\n67.6k\\n•\\n1.07k\\nxai-org/grok-2\\nUpdated\\n7 days ago\\n•\\n3.99k\\n•\\n862\\nopenbmb/MiniCPM-V-4_5\\nUpdated\\nabout 13 hours ago\\n•\\n8.46k\\n•\\n725\\nQwen/Qwen-Image-Edit\\nUpdated\\n6 days ago\\n•\\n72.3k\\n•\\n1.53k\\ndeepseek-ai/DeepSeek-V3.1\\nUpdated\\n4 days ago\\n•\\n72.4k\\n•\\n660\\nBrowse 1M+ models\\nSpaces\\nRunning\\n12.5k\\n12.5k\\nDeepSite v2\\n🐳\\nGenerate any application with DeepSeek\\nRunning\\non\\nZero\\nMCP\\n549\\n549\\nWan2.2 14B Fast\\n🎥\\ngenerate a video from an image with a text prompt\\nRunning\\n187\\n187\\nPrivacy-Safe Synthetic Data Generation | Syncora AI\\n🐠\\nPrivacy-safe synthetic data for ML and data augmentation\\nRunning\\non\\nZero\\n207\\n207\\nQwen Image Edit Fast!\\n✒\\nFast 8 step inference of Qwen Image Edit\\nRunning\\non\\nZero\\n431\\n431\\nQwen Image Edit\\n✒\\nEdit images based on user instructions\\nBrowse 400k+ applications\\nDatasets\\nsyncora/developer-productivity-simulated-behavioral-data\\nUpdated\\n4 days ago\\n•\\n141\\n•\\n181\\nfka/awesome-chatgpt-prompts\\nUpdated\\nJan 6\\n•\\n41.1k\\n•\\n8.91k\\nsyncora/synthetic-healthcare-admissions\\nUpdated\\n4 days ago\\n•\\n40\\n•\\n81\\nopenai/healthbench\\nUpdated\\n3 days ago\\n•\\n255\\n•\\n56\\nnvidia/Nemotron-Post-Training-Dataset-v2\\nUpdated\\n10 days ago\\n•\\n2.49k\\n•\\n44\\nBrowse 250k+ datasets\\nThe Home of Machine Learning\\nCreate, discover and collaborate on ML better.\\nThe collaboration platform\\nHost and collaborate on unlimited public models, datasets and applications.\\nMove faster\\nWith the HF Open source stack.\\nExplore all modalities\\nText, image, video, audio or even 3D.\\nBuild your portfolio\\nShare your work with the world and build your ML profile.\\nSign Up\\nAccelerate your ML\\nWe provide paid Compute and Enterprise solutions.\\nCompute\\nDeploy on optimized\\nInference Endpoints\\nor update your\\nSpaces applications\\nto a GPU in a few clicks.\\nView pricing\\nStarting at $0.60/hour for GPU\\nTeam & Enterprise\\nGive your team the most advanced platform to build AI with enterprise-grade security, access controls and\\n\\t\\t\\tdedicated support.\\nGetting started\\nStarting at $20/user/month\\nSingle Sign-On\\nRegions\\nPriority Support\\nAudit Logs\\nResource Groups\\nPrivate Datasets Viewer\\nMore than 50,000 organizations are using Hugging Face\\nAi2\\nEnterprise\\nnon-profit\\n•\\n784 models\\n•\\n3.95k followers\\nAI at Meta\\nEnterprise\\ncompany\\n•\\n2.22k models\\n•\\n7.5k followers\\nAmazon\\ncompany\\n•\\n20 models\\n•\\n3.39k followers\\nGoogle\\nEnterprise\\ncompany\\n•\\n1.04k models\\n•\\n26.8k followers\\nIntel\\ncompany\\n•\\n237 models\\n•\\n2.95k followers\\nMicrosoft\\ncompany\\n•\\n424 models\\n•\\n14.7k followers\\nGrammarly\\nTeam\\ncompany\\n•\\n11 models\\n•\\n175 followers\\nWriter\\nEnterprise\\ncompany\\n•\\n21 models\\n•\\n328 followers\\nOur Open Source\\nWe are building the foundation of ML tooling with the community.\\nTransformers\\n148,965\\nState-of-the-art AI models for PyTorch\\nDiffusers\\n30,525\\nState-of-the-art Diffusion models in PyTorch\\nSafetensors\\n3,425\\nSafe way to store/distribute neural network weights\\nHub Python Library\\n2,877\\nPython client to interact with the Hugging Face Hub\\nTokenizers\\n10,033\\nFast tokenizers optimized for research & production\\nTRL\\n15,298\\nTrain transformers LMs with reinforcement learning\\nTransformers.js\\n14,429\\nState-of-the-art ML running directly in your browser\\nsmolagents\\n22,458\\nSmol library to build great agents in Python\\nPEFT\\n19,436\\nParameter-efficient finetuning for large language models\\nDatasets\\n20,576\\nAccess & share datasets for any ML tasks\\nText Generation Inference\\n10,458\\nServe language models with TGI optimized toolkit\\nAccelerate\\n9,081\\nTrain PyTorch models with multi-GPU, TPU, mixed precision\\nSystem theme\\nWebsite\\nModels\\nDatasets\\nSpaces\\nChangelog\\nInference Endpoints\\nHuggingChat\\nCompany\\nAbout\\nBrand assets\\nTerms of service\\nPrivacy\\nJobs\\nPress\\nResources\\nLearn\\nDocumentation\\nBlog\\nForum\\nService Status\\nSocial\\nGitHub\\nTwitter\\nLinkedIn\\nDiscord\\n\\n\\n\\nabout page\\nWebpage Title:\\nHugging Face – The AI community building the future.\\nWebpage Contents:\\nHugging Face\\nModels\\nDatasets\\nSpaces\\nCommunity\\nDocs\\nEnterprise\\nPricing\\nLog In\\nSign Up\\nThe AI community building the future.\\nThe platform where the machine learning community collaborates on models, datasets, and applications.\\nExplore AI Apps\\nor\\nBrowse 1M+ models\\nTrending on\\nthis week\\nModels\\nmicrosoft/VibeVoice-1.5B\\nUpdated\\n3 days ago\\n•\\n67.6k\\n•\\n1.07k\\nxai-org/grok-2\\nUpdated\\n7 days ago\\n•\\n3.99k\\n•\\n862\\nopenbmb/MiniCPM-V-4_5\\nUpdated\\nabout 13 hours ago\\n•\\n8.46k\\n•\\n725\\nQwen/Qwen-Image-Edit\\nUpdated\\n6 days ago\\n•\\n72.3k\\n•\\n1.53k\\ndeepseek-ai/DeepSeek-V3.1\\nUpdated\\n4 days ago\\n•\\n72.4k\\n•\\n660\\nBrowse 1M+ models\\nSpaces\\nRunning\\n12.5k\\n12.5k\\nDeepSite v2\\n🐳\\nGenerate any '"
      ]
     },
     "execution_count": 22,
     "metadata": {},
     "output_type": "execute_result"
    }
   ],
   "source": [
    "get_brochure_user_prompt(\"HuggingFace\", \"https://huggingface.co\")"
   ]
  },
  {
   "cell_type": "code",
   "execution_count": 18,
   "id": "40cbdc8b",
   "metadata": {},
   "outputs": [],
   "source": [
    "def create_brochure(company_name, url):\n",
    "    response = openai.chat.completions.create(\n",
    "        model=MODEL,\n",
    "        messages=[\n",
    "            {\"role\": \"system\", \"content\": system_prompt},\n",
    "            {\"role\": \"user\", \"content\": get_brochure_user_prompt(company_name, url)}\n",
    "          ],\n",
    "    )\n",
    "    result = response.choices[0].message.content\n",
    "    display(Markdown(result))\n",
    "    return result"
   ]
  },
  {
   "cell_type": "code",
   "execution_count": 19,
   "id": "707567ea",
   "metadata": {},
   "outputs": [
    {
     "name": "stdout",
     "output_type": "stream",
     "text": [
      "Found links: {'links': [{'type': 'about page', 'url': 'https://huggingface.co/huggingface'}, {'type': 'careers page', 'url': 'https://apply.workable.com/huggingface/'}, {'type': 'blog page', 'url': 'https://huggingface.co/blog'}, {'type': 'company page', 'url': 'https://www.linkedin.com/company/huggingface/'}, {'type': 'forums', 'url': 'https://discuss.huggingface.co'}]}\n"
     ]
    },
    {
     "data": {
      "text/markdown": [
       "# Hugging Face Company Brochure\n",
       "\n",
       "## Overview\n",
       "**Hugging Face** is at the forefront of the artificial intelligence (AI) and machine learning (ML) revolution, providing a collaborative platform where developers and researchers can come together to build, share, and innovate. The company is widely recognized as a central hub for ML resources, hosting over 1 million models, 250k datasets, and numerous AI applications. Hugging Face is dedicated to creating an inclusive and open environment for the ML community, fostering innovation and collaboration for researchers, engineers, and data enthusiasts.\n",
       "\n",
       "## Our Mission\n",
       "*Hugging Face: The AI community building the future* — Our goal is to enhance collaboration in the ML field while making cutting-edge models and datasets more accessible to everyone, from individual developers to top enterprises.\n",
       "\n",
       "## Customers\n",
       "Over **50,000 organizations** utilize Hugging Face, including some of the largest names in tech like Microsoft, Google, and Amazon. We cater to a variety of markets, including non-profit organizations and large enterprises, ensuring everyone has access to machine learning tools and resources that promote growth and development.\n",
       "\n",
       "## Community Engagement\n",
       "Hugging Face offers a **strong support community**, facilitating collaboration and knowledge sharing. Users can explore trending models, participate in discussions, and contribute to an ever-growing library of resources. This community-driven approach has established Hugging Face as a pioneering influence in AI development.\n",
       "\n",
       "## Company Culture\n",
       "At Hugging Face, we embrace a culture of **open-source collaboration and innovation**. We believe in the power of collective intelligence and the importance of transparency in AI development. Our initiatives foster an encouraging and inclusive environment where contributions from individuals of diverse backgrounds are valued and celebrated.\n",
       "\n",
       "- **Inclusivity:** Embracing diverse perspectives and backgrounds within our team and the broader community.\n",
       "- **Collaboration:** Encouraging partnerships among peers to foster idea exchange and innovative results.\n",
       "- **Transparency:** Committing to open dialogue and sharing developments with our community.\n",
       "\n",
       "## Careers & Opportunities\n",
       "We are continually looking for talented individuals to join our team and contribute to our mission. Whether you are an experienced software engineer, data scientist, researcher, or community manager, there are numerous opportunities to grow your career at Hugging Face:\n",
       "\n",
       "- Work in a dynamic and inclusive environment.\n",
       "- Participate in projects that push the boundaries of AI and ML.\n",
       "- Collaborate with leading experts in the field and contribute to innovative research.\n",
       "\n",
       "### Available Positions\n",
       "Visit our [Jobs page](https://huggingface.co/jobs) to explore current openings!\n",
       "\n",
       "## Join Us\n",
       "Whether you are an enterprise looking to leverage AI capabilities, a developer eager to explore cutting-edge tools, or a potential recruit wanting to join a revolutionary team, **Hugging Face** welcomes you. Together, let’s build the future of artificial intelligence!\n",
       "\n",
       "For more information, visit our website: [huggingface.co](https://huggingface.co)  \n",
       "Follow us on social media for updates and community interactions:  \n",
       "- [GitHub](https://github.com/huggingface)  \n",
       "- [Twitter](https://twitter.com/huggingface)  \n",
       "- [LinkedIn](https://www.linkedin.com/company/huggingface)  \n",
       "- [Discord](https://discord.gg/huggingface)  \n",
       "\n",
       "Let's shape the future of AI together!"
      ],
      "text/plain": [
       "<IPython.core.display.Markdown object>"
      ]
     },
     "metadata": {},
     "output_type": "display_data"
    },
    {
     "data": {
      "text/plain": [
       "\"# Hugging Face Company Brochure\\n\\n## Overview\\n**Hugging Face** is at the forefront of the artificial intelligence (AI) and machine learning (ML) revolution, providing a collaborative platform where developers and researchers can come together to build, share, and innovate. The company is widely recognized as a central hub for ML resources, hosting over 1 million models, 250k datasets, and numerous AI applications. Hugging Face is dedicated to creating an inclusive and open environment for the ML community, fostering innovation and collaboration for researchers, engineers, and data enthusiasts.\\n\\n## Our Mission\\n*Hugging Face: The AI community building the future* — Our goal is to enhance collaboration in the ML field while making cutting-edge models and datasets more accessible to everyone, from individual developers to top enterprises.\\n\\n## Customers\\nOver **50,000 organizations** utilize Hugging Face, including some of the largest names in tech like Microsoft, Google, and Amazon. We cater to a variety of markets, including non-profit organizations and large enterprises, ensuring everyone has access to machine learning tools and resources that promote growth and development.\\n\\n## Community Engagement\\nHugging Face offers a **strong support community**, facilitating collaboration and knowledge sharing. Users can explore trending models, participate in discussions, and contribute to an ever-growing library of resources. This community-driven approach has established Hugging Face as a pioneering influence in AI development.\\n\\n## Company Culture\\nAt Hugging Face, we embrace a culture of **open-source collaboration and innovation**. We believe in the power of collective intelligence and the importance of transparency in AI development. Our initiatives foster an encouraging and inclusive environment where contributions from individuals of diverse backgrounds are valued and celebrated.\\n\\n- **Inclusivity:** Embracing diverse perspectives and backgrounds within our team and the broader community.\\n- **Collaboration:** Encouraging partnerships among peers to foster idea exchange and innovative results.\\n- **Transparency:** Committing to open dialogue and sharing developments with our community.\\n\\n## Careers & Opportunities\\nWe are continually looking for talented individuals to join our team and contribute to our mission. Whether you are an experienced software engineer, data scientist, researcher, or community manager, there are numerous opportunities to grow your career at Hugging Face:\\n\\n- Work in a dynamic and inclusive environment.\\n- Participate in projects that push the boundaries of AI and ML.\\n- Collaborate with leading experts in the field and contribute to innovative research.\\n\\n### Available Positions\\nVisit our [Jobs page](https://huggingface.co/jobs) to explore current openings!\\n\\n## Join Us\\nWhether you are an enterprise looking to leverage AI capabilities, a developer eager to explore cutting-edge tools, or a potential recruit wanting to join a revolutionary team, **Hugging Face** welcomes you. Together, let’s build the future of artificial intelligence!\\n\\nFor more information, visit our website: [huggingface.co](https://huggingface.co)  \\nFollow us on social media for updates and community interactions:  \\n- [GitHub](https://github.com/huggingface)  \\n- [Twitter](https://twitter.com/huggingface)  \\n- [LinkedIn](https://www.linkedin.com/company/huggingface)  \\n- [Discord](https://discord.gg/huggingface)  \\n\\nLet's shape the future of AI together!\""
      ]
     },
     "execution_count": 19,
     "metadata": {},
     "output_type": "execute_result"
    }
   ],
   "source": [
    "get_brochure = create_brochure(\"HuggingFace\", \"https://huggingface.co\")\n",
    "get_brochure"
   ]
  },
  {
   "cell_type": "markdown",
   "id": "f50635c2",
   "metadata": {},
   "source": [
    "### Brochure Translator to Bengali "
   ]
  },
  {
   "cell_type": "code",
   "execution_count": 30,
   "id": "221052c9",
   "metadata": {},
   "outputs": [],
   "source": [
    "system_prompt = \"\"\"\n",
    "You are a Bengali translator who can translate English text to Bengali. You will be given a brochure of a company and you need to translate it into Bengali. Make sure \n",
    "to keep the formatting and layout of the original brochure intact. Any url present in the brochure should be in it's original text.\n",
    "\"\"\""
   ]
  },
  {
   "cell_type": "code",
   "execution_count": 26,
   "id": "1b246bf6",
   "metadata": {},
   "outputs": [],
   "source": [
    "def user_prompt_translate_brochure(company_name, brochure):\n",
    "    user_prompt = f\"You are given the brochure for the company {company_name}.\"\n",
    "    user_prompt += f\"Please translate the following brochure to Bengali: {brochure}\"\n",
    "    return user_prompt\n"
   ]
  },
  {
   "cell_type": "code",
   "execution_count": 27,
   "id": "c48c0cca",
   "metadata": {},
   "outputs": [
    {
     "data": {
      "text/plain": [
       "\"You are given the brochure for the company HuggingFace.Please translate the following brochure to Bengali: # Hugging Face Company Brochure\\n\\n## Overview\\n**Hugging Face** is at the forefront of the artificial intelligence (AI) and machine learning (ML) revolution, providing a collaborative platform where developers and researchers can come together to build, share, and innovate. The company is widely recognized as a central hub for ML resources, hosting over 1 million models, 250k datasets, and numerous AI applications. Hugging Face is dedicated to creating an inclusive and open environment for the ML community, fostering innovation and collaboration for researchers, engineers, and data enthusiasts.\\n\\n## Our Mission\\n*Hugging Face: The AI community building the future* — Our goal is to enhance collaboration in the ML field while making cutting-edge models and datasets more accessible to everyone, from individual developers to top enterprises.\\n\\n## Customers\\nOver **50,000 organizations** utilize Hugging Face, including some of the largest names in tech like Microsoft, Google, and Amazon. We cater to a variety of markets, including non-profit organizations and large enterprises, ensuring everyone has access to machine learning tools and resources that promote growth and development.\\n\\n## Community Engagement\\nHugging Face offers a **strong support community**, facilitating collaboration and knowledge sharing. Users can explore trending models, participate in discussions, and contribute to an ever-growing library of resources. This community-driven approach has established Hugging Face as a pioneering influence in AI development.\\n\\n## Company Culture\\nAt Hugging Face, we embrace a culture of **open-source collaboration and innovation**. We believe in the power of collective intelligence and the importance of transparency in AI development. Our initiatives foster an encouraging and inclusive environment where contributions from individuals of diverse backgrounds are valued and celebrated.\\n\\n- **Inclusivity:** Embracing diverse perspectives and backgrounds within our team and the broader community.\\n- **Collaboration:** Encouraging partnerships among peers to foster idea exchange and innovative results.\\n- **Transparency:** Committing to open dialogue and sharing developments with our community.\\n\\n## Careers & Opportunities\\nWe are continually looking for talented individuals to join our team and contribute to our mission. Whether you are an experienced software engineer, data scientist, researcher, or community manager, there are numerous opportunities to grow your career at Hugging Face:\\n\\n- Work in a dynamic and inclusive environment.\\n- Participate in projects that push the boundaries of AI and ML.\\n- Collaborate with leading experts in the field and contribute to innovative research.\\n\\n### Available Positions\\nVisit our [Jobs page](https://huggingface.co/jobs) to explore current openings!\\n\\n## Join Us\\nWhether you are an enterprise looking to leverage AI capabilities, a developer eager to explore cutting-edge tools, or a potential recruit wanting to join a revolutionary team, **Hugging Face** welcomes you. Together, let’s build the future of artificial intelligence!\\n\\nFor more information, visit our website: [huggingface.co](https://huggingface.co)  \\nFollow us on social media for updates and community interactions:  \\n- [GitHub](https://github.com/huggingface)  \\n- [Twitter](https://twitter.com/huggingface)  \\n- [LinkedIn](https://www.linkedin.com/company/huggingface)  \\n- [Discord](https://discord.gg/huggingface)  \\n\\nLet's shape the future of AI together!\""
      ]
     },
     "execution_count": 27,
     "metadata": {},
     "output_type": "execute_result"
    }
   ],
   "source": [
    "user_prompt_translate_brochure(\"HuggingFace\", get_brochure)"
   ]
  },
  {
   "cell_type": "code",
   "execution_count": 28,
   "id": "f0a3bd01",
   "metadata": {},
   "outputs": [],
   "source": [
    "def display_bengali_brochure():\n",
    "    response = openai.chat.completions.create(\n",
    "        model=MODEL,\n",
    "        messages=[\n",
    "            {\"role\": \"system\", \"content\": system_prompt},\n",
    "            {\"role\": \"user\", \"content\": user_prompt_translate_brochure(\"HuggingFace\", get_brochure)}\n",
    "        ]\n",
    "    )\n",
    "    result = response.choices[0].message.content\n",
    "    display(Markdown(result))\n",
    "    return result"
   ]
  },
  {
   "cell_type": "code",
   "execution_count": 31,
   "id": "e5415485",
   "metadata": {},
   "outputs": [
    {
     "data": {
      "text/markdown": [
       "# Hugging Face কোম্পানির ব্রোশার\n",
       "\n",
       "## সাধারণ তথ্য\n",
       "**Hugging Face** কৃত্রিম বুদ্ধিমত্তা (AI) এবং মেশিন লার্নিং (ML) বিপ্লবের অগ্রভাগে রয়েছে, একটি সহযোগিতামূলক প্ল্যাটফর্ম প্রদান করে যেখানে ডেভেলপার এবং গবেষকরা একত্রে কাজ করতে, শেয়ার করতে এবং নতুনত্ব আনতে পারেন। কোম্পানিটি ML সম্পদের জন্য একটি কেন্দ্রীয় কেন্দ্র হিসেবে ব্যাপকভাবে পরিচিত, যেখানে ১ মিলিয়নেরও বেশি মডেল, ২৫০k ডেটাসেট এবং অসংখ্য AI অ্যাপ্লিকেশন রয়েছে। Hugging Face ML সম্প্রদায়ের জন্য একটি অন্তর্ভুক্তিমূলক এবং উন্মুক্ত পরিবেশ তৈরি করতে প্রতিশ্রুতিবদ্ধ, গবেষক, প্রকৌশলী এবং ডেটা উন্মাদদের জন্য নতুনত্ব এবং সহযোগিতা উত্সাহিত করে।\n",
       "\n",
       "## আমাদের লক্ষ্য\n",
       "*Hugging Face: AI সম্প্রদায় ভবিষ্যত গড়ছে* — আমাদের লক্ষ্য হল ML ক্ষেত্রে সহযোগিতা বৃদ্ধি করা এবং বিশেষ করে উন্নত মডেল এবং ডেটাসেটকে সকলের জন্য আরও সহজলভ্য করে তোলা, একক ডেভেলপার থেকে শীর্ষ এন্টারপ্রাইজ পর্যন্ত।\n",
       "\n",
       "## গ্রাহকরা\n",
       "**৫০,০০০ এরও বেশি সংগঠন** Hugging Face ব্যবহার করে, যার মধ্যে মাইক্রোসফ্ট, গুগল, এবং অ্যামাজনের মতো কিছু বৃহত্তম প্রযুক্তি নাম অন্তর্ভুক্ত রয়েছে। আমরা বিভিন্ন বাজারে সেবা প্রদান করি, যার মধ্যে অলাভজনক সংস্থা এবং বড় এন্টারপ্রাইজ রয়েছে, নিশ্চিত করছি যে সবাই মেশিন লার্নিং টুলস এবং সম্পদে প্রবেশাধিকার পায় যা বৃদ্ধ এবং উন্নয়নকে উত্সাহিত করে।\n",
       "\n",
       "## সম্প্রদায়ের সংযুক্তি\n",
       "Hugging Face একটি **শক্তিশালী সমর্থন সম্প্রদায়** প্রদান করে, সহযোগিতা এবং জ্ঞান ভাগাভাগির সুবিধা দেয়। ব্যবহারকারীরা জনপ্রিয় মডেলগুলি অন্বেষণ করতে, আলোচনা করতে অংশগ্রহণ করতে এবং একটি ক্রমবর্ধমান সম্পদ লাইব্রেরিতে অবদান রাখতে পারে। এই সম্প্রদায়-চালিত পন্থা Hugging Face কে AI উন্নয়নে একটি পথপ্রদর্শক প্রভাব হিসেবে প্রতিষ্ঠা করেছে।\n",
       "\n",
       "## কোম্পানির সংস্কৃতি\n",
       "Hugging Face-এ, আমরা **ওপেন-সোর্স সহযোগিতা এবং নতুনত্বের** সংস্কৃতিকে গ্রহণ করি। আমরা সম্মিলিত বুদ্ধির শক্তি এবং AI উন্নয়নের ক্ষেত্রে স্বচ্ছতার গুরুত্বে বিশ্বাস করি। আমাদের উদ্যোগগুলি একটি উৎসাহজনক এবং অন্তর্ভুক্তিমূলক পরিবেশকে উত্সাহিত করে যেখানে বিভিন্ন পটভূমি থেকে ব্যক্তিদের অবদানকে মূল্যায়ন এবং উদযাপন করা হয়।\n",
       "\n",
       "- **অন্তর্ভুক্তি:** আমাদের দল এবং বৃহত্তর সম্প্রদায়ের মধ্যে বিভিন্ন দৃষ্টিভঙ্গি এবং পটভূমি গ্রহণ করা।\n",
       "- **যোগাযোগ:** ধারণার বিনিময় এবং উদ্ভাবনী ফলাফলগুলি উত্সাহিত করতে সহকর্মীদের মধ্যে অংশীদারিত্ব উত্সাহিত করা।\n",
       "- **স্বচ্ছতা:** আমাদের সম্প্রদায়ের সাথে উন্মুক্ত আলোচনা এবং উন্নয়ন ভাগাভাগির প্রতি প্রতিশ্রুতিবদ্ধ।\n",
       "\n",
       "## ক্যারিয়ার ও সুযোগ\n",
       "আমরা ক্রমাগত প্রতিভাবান ব্যক্তিদের খুঁজছি আমাদের দলে যোগ দিতে এবং আমাদের লক্ষ্যতে অবদান রাখতে। আপনি যদি একজন অভিজ্ঞ সফটওয়্যার প্রকৌশলী, ডেটা বিজ্ঞানী, গবেষক, বা সম্প্রদায় ব্যবস্থাপক হন, তাহলে Hugging Face-এ আপনার ক্যারিয়ার বৃদ্ধির জন্য অসংখ্য সুযোগ রয়েছে:\n",
       "\n",
       "- একটি গতিশীল এবং অন্তর্ভুক্ত পরিবেশে কাজ করুন।\n",
       "- প্রকল্পগুলিতে অংশগ্রহণ করুন যা AI এবং ML এর সীমানা বিস্তৃত করে।\n",
       "- শিল্পের শীর্ষ বিশেষজ্ঞদের সাথে সহযোগিতা করুন এবং উদ্ভাবনী গবেষণায় অবদান রাখুন।\n",
       "\n",
       "### উপলব্ধ পদসমূহ\n",
       "বর্তমান খালি পদগুলি অন্বেষণ করতে আমাদের [Jobs page](https://huggingface.co/jobs) তে যান!\n",
       "\n",
       "## আমাদের সাথে যোগ দিন\n",
       "আপনি একটি এন্টারপ্রাইজ হতে পারেন AI সক্ষমতা ব্যবহার করতে চাইলেন, একটি ডেভেলপার হতে পারেন যারা Cutting-edge টুলগুলি অন্বেষণ করতে চায়, অথবা একটি সম্ভাব্য নিয়োগকর্তা যিনি একটি বিপ্লবী দলে যোগ দিতে চান, **Hugging Face** আপনাকে স্বাগতম জানায়। আসুন একসাথে কৃত্রিম বুদ্ধিমত্তার ভবিষ্যত গড়ে তুলি!\n",
       "\n",
       "অতিরিক্ত তথ্যের জন্য, আমাদের ওয়েবসাইটে যান: [huggingface.co](https://huggingface.co)  \n",
       "আপডেট এবং সম্প্রদায়ের সঙ্গে যোগাযোগের জন্য আমাদের সোশ্যাল মিডিয়াতে অনুসরণ করুন:  \n",
       "- [GitHub](https://github.com/huggingface)  \n",
       "- [Twitter](https://twitter.com/huggingface)  \n",
       "- [LinkedIn](https://www.linkedin.com/company/huggingface)  \n",
       "- [Discord](https://discord.gg/huggingface)  \n",
       "\n",
       "আসুন একসাথে AI এর ভবিষ্যতকে গড়ে তুলি!"
      ],
      "text/plain": [
       "<IPython.core.display.Markdown object>"
      ]
     },
     "metadata": {},
     "output_type": "display_data"
    },
    {
     "data": {
      "text/plain": [
       "'# Hugging Face কোম্পানির ব্রোশার\\n\\n## সাধারণ তথ্য\\n**Hugging Face** কৃত্রিম বুদ্ধিমত্তা (AI) এবং মেশিন লার্নিং (ML) বিপ্লবের অগ্রভাগে রয়েছে, একটি সহযোগিতামূলক প্ল্যাটফর্ম প্রদান করে যেখানে ডেভেলপার এবং গবেষকরা একত্রে কাজ করতে, শেয়ার করতে এবং নতুনত্ব আনতে পারেন। কোম্পানিটি ML সম্পদের জন্য একটি কেন্দ্রীয় কেন্দ্র হিসেবে ব্যাপকভাবে পরিচিত, যেখানে ১ মিলিয়নেরও বেশি মডেল, ২৫০k ডেটাসেট এবং অসংখ্য AI অ্যাপ্লিকেশন রয়েছে। Hugging Face ML সম্প্রদায়ের জন্য একটি অন্তর্ভুক্তিমূলক এবং উন্মুক্ত পরিবেশ তৈরি করতে প্রতিশ্রুতিবদ্ধ, গবেষক, প্রকৌশলী এবং ডেটা উন্মাদদের জন্য নতুনত্ব এবং সহযোগিতা উত্সাহিত করে।\\n\\n## আমাদের লক্ষ্য\\n*Hugging Face: AI সম্প্রদায় ভবিষ্যত গড়ছে* — আমাদের লক্ষ্য হল ML ক্ষেত্রে সহযোগিতা বৃদ্ধি করা এবং বিশেষ করে উন্নত মডেল এবং ডেটাসেটকে সকলের জন্য আরও সহজলভ্য করে তোলা, একক ডেভেলপার থেকে শীর্ষ এন্টারপ্রাইজ পর্যন্ত।\\n\\n## গ্রাহকরা\\n**৫০,০০০ এরও বেশি সংগঠন** Hugging Face ব্যবহার করে, যার মধ্যে মাইক্রোসফ্ট, গুগল, এবং অ্যামাজনের মতো কিছু বৃহত্তম প্রযুক্তি নাম অন্তর্ভুক্ত রয়েছে। আমরা বিভিন্ন বাজারে সেবা প্রদান করি, যার মধ্যে অলাভজনক সংস্থা এবং বড় এন্টারপ্রাইজ রয়েছে, নিশ্চিত করছি যে সবাই মেশিন লার্নিং টুলস এবং সম্পদে প্রবেশাধিকার পায় যা বৃদ্ধ এবং উন্নয়নকে উত্সাহিত করে।\\n\\n## সম্প্রদায়ের সংযুক্তি\\nHugging Face একটি **শক্তিশালী সমর্থন সম্প্রদায়** প্রদান করে, সহযোগিতা এবং জ্ঞান ভাগাভাগির সুবিধা দেয়। ব্যবহারকারীরা জনপ্রিয় মডেলগুলি অন্বেষণ করতে, আলোচনা করতে অংশগ্রহণ করতে এবং একটি ক্রমবর্ধমান সম্পদ লাইব্রেরিতে অবদান রাখতে পারে। এই সম্প্রদায়-চালিত পন্থা Hugging Face কে AI উন্নয়নে একটি পথপ্রদর্শক প্রভাব হিসেবে প্রতিষ্ঠা করেছে।\\n\\n## কোম্পানির সংস্কৃতি\\nHugging Face-এ, আমরা **ওপেন-সোর্স সহযোগিতা এবং নতুনত্বের** সংস্কৃতিকে গ্রহণ করি। আমরা সম্মিলিত বুদ্ধির শক্তি এবং AI উন্নয়নের ক্ষেত্রে স্বচ্ছতার গুরুত্বে বিশ্বাস করি। আমাদের উদ্যোগগুলি একটি উৎসাহজনক এবং অন্তর্ভুক্তিমূলক পরিবেশকে উত্সাহিত করে যেখানে বিভিন্ন পটভূমি থেকে ব্যক্তিদের অবদানকে মূল্যায়ন এবং উদযাপন করা হয়।\\n\\n- **অন্তর্ভুক্তি:** আমাদের দল এবং বৃহত্তর সম্প্রদায়ের মধ্যে বিভিন্ন দৃষ্টিভঙ্গি এবং পটভূমি গ্রহণ করা।\\n- **যোগাযোগ:** ধারণার বিনিময় এবং উদ্ভাবনী ফলাফলগুলি উত্সাহিত করতে সহকর্মীদের মধ্যে অংশীদারিত্ব উত্সাহিত করা।\\n- **স্বচ্ছতা:** আমাদের সম্প্রদায়ের সাথে উন্মুক্ত আলোচনা এবং উন্নয়ন ভাগাভাগির প্রতি প্রতিশ্রুতিবদ্ধ।\\n\\n## ক্যারিয়ার ও সুযোগ\\nআমরা ক্রমাগত প্রতিভাবান ব্যক্তিদের খুঁজছি আমাদের দলে যোগ দিতে এবং আমাদের লক্ষ্যতে অবদান রাখতে। আপনি যদি একজন অভিজ্ঞ সফটওয়্যার প্রকৌশলী, ডেটা বিজ্ঞানী, গবেষক, বা সম্প্রদায় ব্যবস্থাপক হন, তাহলে Hugging Face-এ আপনার ক্যারিয়ার বৃদ্ধির জন্য অসংখ্য সুযোগ রয়েছে:\\n\\n- একটি গতিশীল এবং অন্তর্ভুক্ত পরিবেশে কাজ করুন।\\n- প্রকল্পগুলিতে অংশগ্রহণ করুন যা AI এবং ML এর সীমানা বিস্তৃত করে।\\n- শিল্পের শীর্ষ বিশেষজ্ঞদের সাথে সহযোগিতা করুন এবং উদ্ভাবনী গবেষণায় অবদান রাখুন।\\n\\n### উপলব্ধ পদসমূহ\\nবর্তমান খালি পদগুলি অন্বেষণ করতে আমাদের [Jobs page](https://huggingface.co/jobs) তে যান!\\n\\n## আমাদের সাথে যোগ দিন\\nআপনি একটি এন্টারপ্রাইজ হতে পারেন AI সক্ষমতা ব্যবহার করতে চাইলেন, একটি ডেভেলপার হতে পারেন যারা Cutting-edge টুলগুলি অন্বেষণ করতে চায়, অথবা একটি সম্ভাব্য নিয়োগকর্তা যিনি একটি বিপ্লবী দলে যোগ দিতে চান, **Hugging Face** আপনাকে স্বাগতম জানায়। আসুন একসাথে কৃত্রিম বুদ্ধিমত্তার ভবিষ্যত গড়ে তুলি!\\n\\nঅতিরিক্ত তথ্যের জন্য, আমাদের ওয়েবসাইটে যান: [huggingface.co](https://huggingface.co)  \\nআপডেট এবং সম্প্রদায়ের সঙ্গে যোগাযোগের জন্য আমাদের সোশ্যাল মিডিয়াতে অনুসরণ করুন:  \\n- [GitHub](https://github.com/huggingface)  \\n- [Twitter](https://twitter.com/huggingface)  \\n- [LinkedIn](https://www.linkedin.com/company/huggingface)  \\n- [Discord](https://discord.gg/huggingface)  \\n\\nআসুন একসাথে AI এর ভবিষ্যতকে গড়ে তুলি!'"
      ]
     },
     "execution_count": 31,
     "metadata": {},
     "output_type": "execute_result"
    }
   ],
   "source": [
    "display_bengali_brochure()"
   ]
  }
 ],
 "metadata": {
  "kernelspec": {
   "display_name": ".venv",
   "language": "python",
   "name": "python3"
  },
  "language_info": {
   "codemirror_mode": {
    "name": "ipython",
    "version": 3
   },
   "file_extension": ".py",
   "mimetype": "text/x-python",
   "name": "python",
   "nbconvert_exporter": "python",
   "pygments_lexer": "ipython3",
   "version": "3.10.12"
  }
 },
 "nbformat": 4,
 "nbformat_minor": 5
}
