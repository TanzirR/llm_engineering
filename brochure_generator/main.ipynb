{
 "cells": [
  {
   "cell_type": "code",
   "execution_count": 2,
   "id": "94d093fd",
   "metadata": {},
   "outputs": [],
   "source": [
    "import os\n",
    "import requests\n",
    "import json\n",
    "from typing import List\n",
    "from dotenv import load_dotenv\n",
    "from bs4 import BeautifulSoup\n",
    "from IPython.display import Markdown, display, update_display\n",
    "from openai import OpenAI"
   ]
  },
  {
   "cell_type": "code",
   "execution_count": 3,
   "id": "b40ae811",
   "metadata": {},
   "outputs": [
    {
     "name": "stdout",
     "output_type": "stream",
     "text": [
      "API key looks good so far\n"
     ]
    }
   ],
   "source": [
    "# Initialize and constants\n",
    "\n",
    "load_dotenv(override=True)\n",
    "api_key = os.getenv('OPENAI_API_KEY')\n",
    "\n",
    "if api_key and api_key.startswith('sk-proj-') and len(api_key)>10:\n",
    "    print(\"API key looks good so far\")\n",
    "else:\n",
    "    print(\"There might be a problem with your API key? Please visit the troubleshooting notebook!\")\n",
    "    \n",
    "MODEL = 'gpt-4o-mini'\n",
    "openai = OpenAI()"
   ]
  },
  {
   "cell_type": "code",
   "execution_count": 4,
   "id": "fc1e993d",
   "metadata": {},
   "outputs": [],
   "source": [
    "# A class to represent a Webpage\n",
    "\n",
    "# Some websites need you to use proper headers when fetching them:\n",
    "headers = {\n",
    " \"User-Agent\": \"Mozilla/5.0 (Windows NT 10.0; Win64; x64) AppleWebKit/537.36 (KHTML, like Gecko) Chrome/117.0.0.0 Safari/537.36\"\n",
    "}\n",
    "\n",
    "class Website:\n",
    "    \"\"\"\n",
    "    A utility class to represent a Website that we have scraped, now with links\n",
    "    \"\"\"\n",
    "\n",
    "    def __init__(self, url):\n",
    "        self.url = url\n",
    "        response = requests.get(url, headers=headers)\n",
    "        self.body = response.content\n",
    "        soup = BeautifulSoup(self.body, 'html.parser')\n",
    "        self.title = soup.title.string if soup.title else \"No title found\"\n",
    "        if soup.body:\n",
    "            for irrelevant in soup.body([\"script\", \"style\", \"img\", \"input\"]):\n",
    "                irrelevant.decompose()\n",
    "            self.text = soup.body.get_text(separator=\"\\n\", strip=True)\n",
    "        else:\n",
    "            self.text = \"\"\n",
    "        links = [link.get('href') for link in soup.find_all('a')]\n",
    "        self.links = [link for link in links if link]\n",
    "\n",
    "    def get_contents(self):\n",
    "        return f\"Webpage Title:\\n{self.title}\\nWebpage Contents:\\n{self.text}\\n\\n\""
   ]
  },
  {
   "cell_type": "markdown",
   "id": "3a612f9b",
   "metadata": {},
   "source": [
    "##### First step: Have GPT-4o-mini figure out which links are relevant\n",
    "##### Use a call to gpt-4o-mini to read the links on a webpage, and respond in structured JSON.\n",
    "It should decide which links are relevant, and replace relative links such as \"/about\" with \"https://company.com/about\".\n",
    "We will use \"one shot prompting\" in which we provide an example of how it should respond in the prompt."
   ]
  },
  {
   "cell_type": "code",
   "execution_count": 5,
   "id": "ec66a940",
   "metadata": {},
   "outputs": [],
   "source": [
    "link_system_prompt = \"You are provided with a list of links found on a webpage. \\\n",
    "You are able to decide which of the links would be most relevant to include in a brochure about the company, \\\n",
    "such as links to an About page, or a Company page, or Careers/Jobs pages.\\n\"\n",
    "link_system_prompt += \"You should respond in JSON as in this example:\"\n",
    "link_system_prompt += \"\"\"\n",
    "{\n",
    "    \"links\": [\n",
    "        {\"type\": \"about page\", \"url\": \"https://full.url/goes/here/about\"},\n",
    "        {\"type\": \"careers page\", \"url\": \"https://another.full.url/careers\"}\n",
    "    ]\n",
    "}\n",
    "\"\"\""
   ]
  },
  {
   "cell_type": "code",
   "execution_count": 6,
   "id": "4cfbe6de",
   "metadata": {},
   "outputs": [
    {
     "name": "stdout",
     "output_type": "stream",
     "text": [
      "You are provided with a list of links found on a webpage. You are able to decide which of the links would be most relevant to include in a brochure about the company, such as links to an About page, or a Company page, or Careers/Jobs pages.\n",
      "You should respond in JSON as in this example:\n",
      "{\n",
      "    \"links\": [\n",
      "        {\"type\": \"about page\", \"url\": \"https://full.url/goes/here/about\"},\n",
      "        {\"type\": \"careers page\", \"url\": \"https://another.full.url/careers\"}\n",
      "    ]\n",
      "}\n",
      "\n"
     ]
    }
   ],
   "source": [
    "print(link_system_prompt)"
   ]
  },
  {
   "cell_type": "code",
   "execution_count": 7,
   "id": "407d42cc",
   "metadata": {},
   "outputs": [],
   "source": [
    "def get_links_user_prompt(website):\n",
    "    user_prompt = f\"Here is the list of links on the website of {website.url} - \"\n",
    "    user_prompt += \"please decide which of these are relevant web links for a brochure about the company, respond with the full https URL in JSON format. \\\n",
    "Do not include Terms of Service, Privacy, email links.\\n\"\n",
    "    user_prompt += \"Links (some might be relative links):\\n\"\n",
    "    user_prompt += \"\\n\".join(website.links)\n",
    "    return user_prompt"
   ]
  },
  {
   "cell_type": "code",
   "execution_count": 8,
   "id": "841dcbb1",
   "metadata": {},
   "outputs": [],
   "source": [
    "def get_links(url):\n",
    "    website = Website(url)\n",
    "    response = openai.chat.completions.create(\n",
    "        model=MODEL,\n",
    "        messages=[\n",
    "            {\"role\": \"system\", \"content\": link_system_prompt},\n",
    "            {\"role\": \"user\", \"content\": get_links_user_prompt(website)}\n",
    "      ],\n",
    "        response_format={\"type\": \"json_object\"}\n",
    "    )\n",
    "    result = response.choices[0].message.content\n",
    "    return json.loads(result)"
   ]
  },
  {
   "cell_type": "code",
   "execution_count": 16,
   "id": "2988b3f6",
   "metadata": {},
   "outputs": [
    {
     "data": {
      "text/plain": [
       "['/',\n",
       " '/models',\n",
       " '/datasets',\n",
       " '/spaces',\n",
       " '/docs',\n",
       " '/enterprise',\n",
       " '/pricing',\n",
       " '/login',\n",
       " '/join',\n",
       " '/spaces',\n",
       " '/models',\n",
       " '/microsoft/VibeVoice-1.5B',\n",
       " '/xai-org/grok-2',\n",
       " '/openbmb/MiniCPM-V-4_5',\n",
       " '/Qwen/Qwen-Image-Edit',\n",
       " '/deepseek-ai/DeepSeek-V3.1',\n",
       " '/models',\n",
       " '/spaces/enzostvs/deepsite',\n",
       " '/spaces/zerogpu-aoti/wan2-2-fp8da-aoti-faster',\n",
       " '/spaces/syncora/synthetic-generation',\n",
       " '/spaces/multimodalart/Qwen-Image-Edit-Fast',\n",
       " '/spaces/Qwen/Qwen-Image-Edit',\n",
       " '/spaces',\n",
       " '/datasets/syncora/developer-productivity-simulated-behavioral-data',\n",
       " '/datasets/fka/awesome-chatgpt-prompts',\n",
       " '/datasets/syncora/synthetic-healthcare-admissions',\n",
       " '/datasets/openai/healthbench',\n",
       " '/datasets/nvidia/Nemotron-Post-Training-Dataset-v2',\n",
       " '/datasets',\n",
       " '/join',\n",
       " '/pricing#endpoints',\n",
       " '/pricing#spaces',\n",
       " '/pricing',\n",
       " '/enterprise',\n",
       " '/enterprise',\n",
       " '/enterprise',\n",
       " '/enterprise',\n",
       " '/enterprise',\n",
       " '/enterprise',\n",
       " '/enterprise',\n",
       " '/allenai',\n",
       " '/facebook',\n",
       " '/amazon',\n",
       " '/google',\n",
       " '/Intel',\n",
       " '/microsoft',\n",
       " '/grammarly',\n",
       " '/Writer',\n",
       " '/docs/transformers',\n",
       " '/docs/diffusers',\n",
       " '/docs/safetensors',\n",
       " '/docs/huggingface_hub',\n",
       " '/docs/tokenizers',\n",
       " '/docs/trl',\n",
       " '/docs/transformers.js',\n",
       " '/docs/smolagents',\n",
       " '/docs/peft',\n",
       " '/docs/datasets',\n",
       " '/docs/text-generation-inference',\n",
       " '/docs/accelerate',\n",
       " '/models',\n",
       " '/datasets',\n",
       " '/spaces',\n",
       " '/changelog',\n",
       " 'https://endpoints.huggingface.co',\n",
       " '/chat',\n",
       " '/huggingface',\n",
       " '/brand',\n",
       " '/terms-of-service',\n",
       " '/privacy',\n",
       " 'https://apply.workable.com/huggingface/',\n",
       " 'mailto:press@huggingface.co',\n",
       " '/learn',\n",
       " '/docs',\n",
       " '/blog',\n",
       " 'https://discuss.huggingface.co',\n",
       " 'https://status.huggingface.co/',\n",
       " 'https://github.com/huggingface',\n",
       " 'https://twitter.com/huggingface',\n",
       " 'https://www.linkedin.com/company/huggingface/',\n",
       " '/join/discord']"
      ]
     },
     "execution_count": 16,
     "metadata": {},
     "output_type": "execute_result"
    }
   ],
   "source": [
    "huggingface = Website(\"https://huggingface.co\")\n",
    "huggingface.links"
   ]
  },
  {
   "cell_type": "code",
   "execution_count": 17,
   "id": "e2b4c21c",
   "metadata": {},
   "outputs": [
    {
     "data": {
      "text/plain": [
       "{'links': [{'type': 'about page', 'url': 'https://huggingface.co/huggingface'},\n",
       "  {'type': 'careers page', 'url': 'https://apply.workable.com/huggingface/'},\n",
       "  {'type': 'enterprise page', 'url': 'https://huggingface.co/enterprise'},\n",
       "  {'type': 'blog page', 'url': 'https://huggingface.co/blog'},\n",
       "  {'type': 'community page', 'url': 'https://discuss.huggingface.co'},\n",
       "  {'type': 'GitHub page', 'url': 'https://github.com/huggingface'},\n",
       "  {'type': 'Twitter page', 'url': 'https://twitter.com/huggingface'},\n",
       "  {'type': 'LinkedIn page',\n",
       "   'url': 'https://www.linkedin.com/company/huggingface/'}]}"
      ]
     },
     "execution_count": 17,
     "metadata": {},
     "output_type": "execute_result"
    }
   ],
   "source": [
    "get_links(\"https://huggingface.co\")"
   ]
  },
  {
   "cell_type": "markdown",
   "id": "30785699",
   "metadata": {},
   "source": [
    "##### Second step: Make the brochure\n",
    "\n",
    "Assemble all the details into another gtp4-o prompt"
   ]
  },
  {
   "cell_type": "code",
   "execution_count": 9,
   "id": "07621078",
   "metadata": {},
   "outputs": [],
   "source": [
    "def get_all_details(url):\n",
    "    result = \"Landing page:\\n\"\n",
    "    result += Website(url).get_contents()\n",
    "    links = get_links(url)\n",
    "    print(\"Found links:\", links)\n",
    "    for link in links[\"links\"]:\n",
    "        result += f\"\\n\\n{link['type']}\\n\"\n",
    "        result += Website(link[\"url\"]).get_contents()\n",
    "    return result"
   ]
  },
  {
   "cell_type": "code",
   "execution_count": 10,
   "id": "1a5c7495",
   "metadata": {},
   "outputs": [],
   "source": [
    "system_prompt = \"You are an assistant that analyzes the contents of several relevant pages from a company website \\\n",
    "and creates a short brochure about the company for prospective customers, investors and recruits. Respond in markdown.\\\n",
    "Include details of company culture, customers and careers/jobs if you have the information.\"\n",
    "\n",
    "# Or uncomment the lines below for a more humorous brochure - this demonstrates how easy it is to incorporate 'tone':\n",
    "\n",
    "# system_prompt = \"You are an assistant that analyzes the contents of several relevant pages from a company website \\\n",
    "# and creates a short humorous, entertaining, jokey brochure about the company for prospective customers, investors and recruits. Respond in markdown.\\\n",
    "# Include details of company culture, customers and careers/jobs if you have the information.\""
   ]
  },
  {
   "cell_type": "code",
   "execution_count": 11,
   "id": "89d72985",
   "metadata": {},
   "outputs": [],
   "source": [
    "def get_brochure_user_prompt(company_name, url):\n",
    "    user_prompt = f\"You are looking at a company called: {company_name}\\n\"\n",
    "    user_prompt += f\"Here are the contents of its landing page and other relevant pages; use this information to build a short brochure of the company in markdown.\\n\"\n",
    "    user_prompt += get_all_details(url)\n",
    "    user_prompt = user_prompt[:5_000] # Truncate if more than 5,000 characters\n",
    "    return user_prompt"
   ]
  },
  {
   "cell_type": "code",
   "execution_count": 22,
   "id": "693941ab",
   "metadata": {},
   "outputs": [
    {
     "name": "stdout",
     "output_type": "stream",
     "text": [
      "Found links: {'links': [{'type': 'about page', 'url': 'https://huggingface.co'}, {'type': 'careers page', 'url': 'https://apply.workable.com/huggingface/'}, {'type': 'company page', 'url': 'https://www.linkedin.com/company/huggingface/'}, {'type': 'blog page', 'url': 'https://huggingface.co/blog'}, {'type': 'docs page', 'url': 'https://huggingface.co/docs'}]}\n"
     ]
    },
    {
     "data": {
      "text/plain": [
       "'You are looking at a company called: HuggingFace\\nHere are the contents of its landing page and other relevant pages; use this information to build a short brochure of the company in markdown.\\nLanding page:\\nWebpage Title:\\nHugging Face – The AI community building the future.\\nWebpage Contents:\\nHugging Face\\nModels\\nDatasets\\nSpaces\\nCommunity\\nDocs\\nEnterprise\\nPricing\\nLog In\\nSign Up\\nThe AI community building the future.\\nThe platform where the machine learning community collaborates on models, datasets, and applications.\\nExplore AI Apps\\nor\\nBrowse 1M+ models\\nTrending on\\nthis week\\nModels\\nmicrosoft/VibeVoice-1.5B\\nUpdated\\n3 days ago\\n•\\n67.6k\\n•\\n1.07k\\nxai-org/grok-2\\nUpdated\\n7 days ago\\n•\\n3.99k\\n•\\n862\\nopenbmb/MiniCPM-V-4_5\\nUpdated\\nabout 13 hours ago\\n•\\n8.46k\\n•\\n725\\nQwen/Qwen-Image-Edit\\nUpdated\\n6 days ago\\n•\\n72.3k\\n•\\n1.53k\\ndeepseek-ai/DeepSeek-V3.1\\nUpdated\\n4 days ago\\n•\\n72.4k\\n•\\n660\\nBrowse 1M+ models\\nSpaces\\nRunning\\n12.5k\\n12.5k\\nDeepSite v2\\n🐳\\nGenerate any application with DeepSeek\\nRunning\\non\\nZero\\nMCP\\n549\\n549\\nWan2.2 14B Fast\\n🎥\\ngenerate a video from an image with a text prompt\\nRunning\\n187\\n187\\nPrivacy-Safe Synthetic Data Generation | Syncora AI\\n🐠\\nPrivacy-safe synthetic data for ML and data augmentation\\nRunning\\non\\nZero\\n207\\n207\\nQwen Image Edit Fast!\\n✒\\nFast 8 step inference of Qwen Image Edit\\nRunning\\non\\nZero\\n431\\n431\\nQwen Image Edit\\n✒\\nEdit images based on user instructions\\nBrowse 400k+ applications\\nDatasets\\nsyncora/developer-productivity-simulated-behavioral-data\\nUpdated\\n4 days ago\\n•\\n141\\n•\\n181\\nfka/awesome-chatgpt-prompts\\nUpdated\\nJan 6\\n•\\n41.1k\\n•\\n8.91k\\nsyncora/synthetic-healthcare-admissions\\nUpdated\\n4 days ago\\n•\\n40\\n•\\n81\\nopenai/healthbench\\nUpdated\\n3 days ago\\n•\\n255\\n•\\n56\\nnvidia/Nemotron-Post-Training-Dataset-v2\\nUpdated\\n10 days ago\\n•\\n2.49k\\n•\\n44\\nBrowse 250k+ datasets\\nThe Home of Machine Learning\\nCreate, discover and collaborate on ML better.\\nThe collaboration platform\\nHost and collaborate on unlimited public models, datasets and applications.\\nMove faster\\nWith the HF Open source stack.\\nExplore all modalities\\nText, image, video, audio or even 3D.\\nBuild your portfolio\\nShare your work with the world and build your ML profile.\\nSign Up\\nAccelerate your ML\\nWe provide paid Compute and Enterprise solutions.\\nCompute\\nDeploy on optimized\\nInference Endpoints\\nor update your\\nSpaces applications\\nto a GPU in a few clicks.\\nView pricing\\nStarting at $0.60/hour for GPU\\nTeam & Enterprise\\nGive your team the most advanced platform to build AI with enterprise-grade security, access controls and\\n\\t\\t\\tdedicated support.\\nGetting started\\nStarting at $20/user/month\\nSingle Sign-On\\nRegions\\nPriority Support\\nAudit Logs\\nResource Groups\\nPrivate Datasets Viewer\\nMore than 50,000 organizations are using Hugging Face\\nAi2\\nEnterprise\\nnon-profit\\n•\\n784 models\\n•\\n3.95k followers\\nAI at Meta\\nEnterprise\\ncompany\\n•\\n2.22k models\\n•\\n7.5k followers\\nAmazon\\ncompany\\n•\\n20 models\\n•\\n3.39k followers\\nGoogle\\nEnterprise\\ncompany\\n•\\n1.04k models\\n•\\n26.8k followers\\nIntel\\ncompany\\n•\\n237 models\\n•\\n2.95k followers\\nMicrosoft\\ncompany\\n•\\n424 models\\n•\\n14.7k followers\\nGrammarly\\nTeam\\ncompany\\n•\\n11 models\\n•\\n175 followers\\nWriter\\nEnterprise\\ncompany\\n•\\n21 models\\n•\\n328 followers\\nOur Open Source\\nWe are building the foundation of ML tooling with the community.\\nTransformers\\n148,965\\nState-of-the-art AI models for PyTorch\\nDiffusers\\n30,525\\nState-of-the-art Diffusion models in PyTorch\\nSafetensors\\n3,425\\nSafe way to store/distribute neural network weights\\nHub Python Library\\n2,877\\nPython client to interact with the Hugging Face Hub\\nTokenizers\\n10,033\\nFast tokenizers optimized for research & production\\nTRL\\n15,298\\nTrain transformers LMs with reinforcement learning\\nTransformers.js\\n14,429\\nState-of-the-art ML running directly in your browser\\nsmolagents\\n22,458\\nSmol library to build great agents in Python\\nPEFT\\n19,436\\nParameter-efficient finetuning for large language models\\nDatasets\\n20,576\\nAccess & share datasets for any ML tasks\\nText Generation Inference\\n10,458\\nServe language models with TGI optimized toolkit\\nAccelerate\\n9,081\\nTrain PyTorch models with multi-GPU, TPU, mixed precision\\nSystem theme\\nWebsite\\nModels\\nDatasets\\nSpaces\\nChangelog\\nInference Endpoints\\nHuggingChat\\nCompany\\nAbout\\nBrand assets\\nTerms of service\\nPrivacy\\nJobs\\nPress\\nResources\\nLearn\\nDocumentation\\nBlog\\nForum\\nService Status\\nSocial\\nGitHub\\nTwitter\\nLinkedIn\\nDiscord\\n\\n\\n\\nabout page\\nWebpage Title:\\nHugging Face – The AI community building the future.\\nWebpage Contents:\\nHugging Face\\nModels\\nDatasets\\nSpaces\\nCommunity\\nDocs\\nEnterprise\\nPricing\\nLog In\\nSign Up\\nThe AI community building the future.\\nThe platform where the machine learning community collaborates on models, datasets, and applications.\\nExplore AI Apps\\nor\\nBrowse 1M+ models\\nTrending on\\nthis week\\nModels\\nmicrosoft/VibeVoice-1.5B\\nUpdated\\n3 days ago\\n•\\n67.6k\\n•\\n1.07k\\nxai-org/grok-2\\nUpdated\\n7 days ago\\n•\\n3.99k\\n•\\n862\\nopenbmb/MiniCPM-V-4_5\\nUpdated\\nabout 13 hours ago\\n•\\n8.46k\\n•\\n725\\nQwen/Qwen-Image-Edit\\nUpdated\\n6 days ago\\n•\\n72.3k\\n•\\n1.53k\\ndeepseek-ai/DeepSeek-V3.1\\nUpdated\\n4 days ago\\n•\\n72.4k\\n•\\n660\\nBrowse 1M+ models\\nSpaces\\nRunning\\n12.5k\\n12.5k\\nDeepSite v2\\n🐳\\nGenerate any '"
      ]
     },
     "execution_count": 22,
     "metadata": {},
     "output_type": "execute_result"
    }
   ],
   "source": [
    "get_brochure_user_prompt(\"HuggingFace\", \"https://huggingface.co\")"
   ]
  },
  {
   "cell_type": "code",
   "execution_count": 12,
   "id": "40cbdc8b",
   "metadata": {},
   "outputs": [],
   "source": [
    "def create_brochure(company_name, url):\n",
    "    response = openai.chat.completions.create(\n",
    "        model=MODEL,\n",
    "        messages=[\n",
    "            {\"role\": \"system\", \"content\": system_prompt},\n",
    "            {\"role\": \"user\", \"content\": get_brochure_user_prompt(company_name, url)}\n",
    "          ],\n",
    "    )\n",
    "    result = response.choices[0].message.content\n",
    "    display(Markdown(result))"
   ]
  },
  {
   "cell_type": "code",
   "execution_count": 13,
   "id": "707567ea",
   "metadata": {},
   "outputs": [
    {
     "name": "stdout",
     "output_type": "stream",
     "text": [
      "Found links: {'links': [{'type': 'about page', 'url': 'https://huggingface.co/huggingface'}, {'type': 'careers page', 'url': 'https://apply.workable.com/huggingface/'}, {'type': 'enterprise page', 'url': 'https://huggingface.co/enterprise'}, {'type': 'pricing page', 'url': 'https://huggingface.co/pricing'}, {'type': 'blog page', 'url': 'https://huggingface.co/blog'}, {'type': 'company social media page', 'url': 'https://twitter.com/huggingface'}, {'type': 'company social media page', 'url': 'https://www.linkedin.com/company/huggingface/'}]}\n"
     ]
    },
    {
     "data": {
      "text/markdown": [
       "# Hugging Face: The Future of AI\n",
       "\n",
       "Welcome to Hugging Face, the vibrant AI community dedicated to building the future of artificial intelligence. Our collaborative platform is designed for machine learning enthusiasts, businesses, and researchers alike. \n",
       "\n",
       "## Our Offerings\n",
       "\n",
       "### **Explore Models and Datasets**\n",
       "- **Models**: With over 1 million state-of-the-art models available, including options from major companies like Microsoft, Google, and Amazon, you can find exactly what you need to power your applications.\n",
       "- **Datasets**: Access around 250,000 datasets tailored for various machine learning tasks, facilitating innovation and research.\n",
       "\n",
       "### **Collaborative Spaces**\n",
       "Our platform hosts over 400,000 applications. Collaborate in real-time in one of our many spaces, or use our tools to create your own.\n",
       "\n",
       "### **Enterprise Solutions**\n",
       "For teams and enterprises, we offer GPU compute resources and enterprise-grade security, ensuring powerful and secure AI model deployment, starting from just $20/user/month.\n",
       "\n",
       "## Our Community \n",
       "With over 50,000 organizations leveraging Hugging Face, we foster a rich community of users who share and collaborate on ML models and datasets. Gaming giants like Meta and multi-nationals like Google and Intel turn to our platform for their advanced AI solutions.\n",
       "\n",
       "### **Open Source Commitment**\n",
       "At Hugging Face, we believe in open-source collaboration. Our essential libraries for machine learning—including Transformers, Diffusers, and Tokenizers—provide researchers and practitioners with the tools to innovate.\n",
       "\n",
       "## Company Culture\n",
       "Hugging Face champions a progressive, inclusive, and community-driven workplace culture. We prioritize collaboration and empowerment, enabling our team and users to push boundaries and explore new frontiers in AI. We support a diverse range of voices and ideas, believing they are crucial for breakthroughs in technology.\n",
       "\n",
       "## Join Us\n",
       "### **Careers at Hugging Face**\n",
       "We are constantly on the lookout for passionate individuals ready to make a difference. If you are interested in working with cutting-edge technology and being part of a team that values growth, innovation, and community, check out our careers page for current job openings.\n",
       "\n",
       "---\n",
       "\n",
       "For more detailed information, don't hesitate to visit our [website](https://huggingface.co) and explore the exciting world of AI and machine learning with Hugging Face!"
      ],
      "text/plain": [
       "<IPython.core.display.Markdown object>"
      ]
     },
     "metadata": {},
     "output_type": "display_data"
    }
   ],
   "source": [
    "get_brochure = create_brochure(\"HuggingFace\", \"https://huggingface.co\")\n",
    "get_brochure"
   ]
  },
  {
   "cell_type": "markdown",
   "id": "f50635c2",
   "metadata": {},
   "source": [
    "### Brochure Translator to Bengali "
   ]
  },
  {
   "cell_type": "code",
   "execution_count": 1,
   "id": "221052c9",
   "metadata": {},
   "outputs": [],
   "source": [
    "system_prompt = \"\"\"\n",
    "You are a Bengali translator who can translate English text to Bengali. You will be given a brochure of a company and you need to translate it into Bengali. Make sure \n",
    "to keep the formatting and layout of the original brochure intact.\n",
    "\"\"\""
   ]
  },
  {
   "cell_type": "code",
   "execution_count": 14,
   "id": "1b246bf6",
   "metadata": {},
   "outputs": [],
   "source": [
    "def user_prompt_translate_brochure(company_name, brochure):\n",
    "    user_prompt = f\"You are given the brochure for the company {company_name}.\"\n",
    "    user_prompt += f\"Please translate the following brochure to Bengali: {brochure}\"\n",
    "    return user_prompt\n"
   ]
  },
  {
   "cell_type": "code",
   "execution_count": 17,
   "id": "c48c0cca",
   "metadata": {},
   "outputs": [
    {
     "name": "stdout",
     "output_type": "stream",
     "text": [
      "None\n"
     ]
    }
   ],
   "source": [
    "print(get_brochure)"
   ]
  }
 ],
 "metadata": {
  "kernelspec": {
   "display_name": ".venv",
   "language": "python",
   "name": "python3"
  },
  "language_info": {
   "codemirror_mode": {
    "name": "ipython",
    "version": 3
   },
   "file_extension": ".py",
   "mimetype": "text/x-python",
   "name": "python",
   "nbconvert_exporter": "python",
   "pygments_lexer": "ipython3",
   "version": "3.10.12"
  }
 },
 "nbformat": 4,
 "nbformat_minor": 5
}
