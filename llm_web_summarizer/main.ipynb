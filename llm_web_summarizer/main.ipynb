{
 "cells": [
  {
   "cell_type": "code",
   "execution_count": 60,
   "id": "022a89f4",
   "metadata": {},
   "outputs": [],
   "source": [
    "#imports\n",
    "import os\n",
    "import requests\n",
    "from dotenv import load_dotenv\n",
    "from bs4 import BeautifulSoup\n",
    "from IPython.display import Markdown, display\n",
    "from openai import OpenAI\n"
   ]
  },
  {
   "cell_type": "code",
   "execution_count": 61,
   "id": "d424eca2",
   "metadata": {},
   "outputs": [
    {
     "name": "stdout",
     "output_type": "stream",
     "text": [
      "API key found and looks good so far!\n"
     ]
    }
   ],
   "source": [
    "#load the environment\n",
    "load_dotenv(override=True)\n",
    "api_key = os.getenv('OPENAI_API_KEY')\n",
    "\n",
    "#check the key\n",
    "if not api_key:\n",
    "    print(\"No API key was found - please head over to the troubleshooting notebook in this folder to identify & fix!\")\n",
    "elif not api_key.startswith(\"sk-proj-\"):\n",
    "    print(\"An API key was found, but it doesn't start sk-proj-; please check you're using the right key - see troubleshooting notebook\")\n",
    "elif api_key.strip() != api_key:\n",
    "    print(\"An API key was found, but it looks like it might have space or tab characters at the start or end - please remove them - see troubleshooting notebook\")\n",
    "else:\n",
    "    print(\"API key found and looks good so far!\")"
   ]
  },
  {
   "cell_type": "code",
   "execution_count": 62,
   "id": "a6984ecb",
   "metadata": {},
   "outputs": [],
   "source": [
    "#Instantiate OpenAI\n",
    "openai = OpenAI()\n"
   ]
  },
  {
   "cell_type": "code",
   "execution_count": 63,
   "id": "617c40c5",
   "metadata": {},
   "outputs": [],
   "source": [
    "import asyncio\n",
    "from playwright.async_api import async_playwright, TimeoutError\n",
    "\n",
    "class Website:\n",
    "    def __init__(self, url):\n",
    "        self.url = url\n",
    "        self.title = \"No title found\"\n",
    "        self.text = \"\"\n",
    "\n",
    "    @classmethod\n",
    "    async def create(cls, url):\n",
    "        self = cls(url)\n",
    "        async with async_playwright() as p:\n",
    "            browser = await p.chromium.launch(headless=True)\n",
    "            page = await browser.new_page()\n",
    "            \n",
    "            try:\n",
    "                await page.goto(url, timeout=60000)\n",
    "                await page.wait_for_selector(\"body\", timeout=30000)\n",
    "                \n",
    "                self.title = await page.title() or \"No title found\"\n",
    "                body = await page.query_selector(\"body\")\n",
    "                self.text = await body.inner_text() if body else \"\"\n",
    "            \n",
    "            except TimeoutError:\n",
    "                print(f\"Timeout while loading: {url}\")\n",
    "            \n",
    "            finally:\n",
    "                await browser.close()\n",
    "        \n",
    "        return self"
   ]
  },
  {
   "cell_type": "code",
   "execution_count": 64,
   "id": "9ed0b887",
   "metadata": {},
   "outputs": [
    {
     "name": "stdout",
     "output_type": "stream",
     "text": [
      "URL: https://tanzirr.netlify.app/\n",
      "Title: Tanzir Razzaque AI/ML Engineer Portfolio\n",
      "Text: Tanzir Razzaque\n",
      "About\n",
      "Skills\n",
      "Projects\n",
      "Experience\n",
      "Contact\n",
      "AI/ML Engineer\n",
      "Building the Future with\n",
      "Artificial Intelligence\n",
      "\n",
      "Passionate about creating intelligent systems that solve real-world problems. Specializing in machine learning, deep learning, and AI research.\n",
      "\n",
      "View My Work\n",
      "Contact\n",
      "About Me\n",
      "Transforming Ideas into Intelligent Solutions\n",
      "\n",
      "I'm a passionate AI/ML engineer with a deep commitment to pushing the boundaries of artificial intelligence. With over 2 years of experience as a data analy ...\n"
     ]
    }
   ],
   "source": [
    "tanzir = await Website.create(\"https://tanzirr.netlify.app/\")\n",
    "print(\"URL:\", tanzir.url)\n",
    "print(\"Title:\", tanzir.title)\n",
    "print(\"Text:\", tanzir.text[:500], \"...\")"
   ]
  },
  {
   "cell_type": "code",
   "execution_count": 65,
   "id": "d061c815",
   "metadata": {},
   "outputs": [],
   "source": [
    "system_prompt = \"You are an assistant that analyzes the contents of a website \\\n",
    "and provides a short summary, ignoring text that might be navigation related. \\\n",
    "Respond in markdown.\""
   ]
  },
  {
   "cell_type": "code",
   "execution_count": 66,
   "id": "c31015fc",
   "metadata": {},
   "outputs": [],
   "source": [
    "def user_prompt_for(website):\n",
    "    user_prompt = f\"You are looking at a website titled {website.title}\"\n",
    "    user_prompt += \"\\nThe contents of this website is as follows; \\\n",
    "please provide a short summary of this website in markdown. \\\n",
    "If it includes news or announcements, then summarize these too.\\n\\n\"\n",
    "    user_prompt += website.text\n",
    "    return user_prompt"
   ]
  },
  {
   "cell_type": "code",
   "execution_count": 67,
   "id": "91ae922d",
   "metadata": {},
   "outputs": [
    {
     "name": "stdout",
     "output_type": "stream",
     "text": [
      "You are looking at a website titled Tanzir Razzaque AI/ML Engineer Portfolio\n",
      "The contents of this website is as follows; please provide a short summary of this website in markdown. If it includes news or announcements, then summarize these too.\n",
      "\n",
      "Tanzir Razzaque\n",
      "About\n",
      "Skills\n",
      "Projects\n",
      "Experience\n",
      "Contact\n",
      "AI/ML Engineer\n",
      "Building the Future with\n",
      "Artificial Intelligence\n",
      "\n",
      "Passionate about creating intelligent systems that solve real-world problems. Specializing in machine learning, deep learning, and AI research.\n",
      "\n",
      "View My Work\n",
      "Contact\n",
      "About Me\n",
      "Transforming Ideas into Intelligent Solutions\n",
      "\n",
      "I'm a passionate AI/ML engineer with a deep commitment to pushing the boundaries of artificial intelligence. With over 2 years of experience as a data analyst and AI researcher, I specialize in building production-ready ML systems that solve real-world problems.\n",
      "\n",
      "My expertise lies in the intersection of deep learning research and practical implementation. My work spans from developing pose estimation systems for autonomous vehicles to creating multilingual RAG pipelines and domain-specific datasets.\n",
      "\n",
      "When I'm not training neural networks, you'll find me exploring the latest research in areas like Computer Vision, Large Language Models, and Agentic AI.\n",
      "\n",
      "Technical Expertise\n",
      "\n",
      "A comprehensive skill set spanning the entire ML pipeline, from research to production deployment\n",
      "\n",
      "Machine Learning\n",
      "Deep Learning\n",
      "Computer Vision\n",
      "NLP\n",
      "Reinforcement Learning\n",
      "Programming\n",
      "Python\n",
      "Javascript\n",
      "C++\n",
      "Java\n",
      "Full Stack\n",
      "React\n",
      "NodeJS\n",
      "ExpressJS\n",
      "SQL\n",
      "MLOps & Infrastructure\n",
      "Docker\n",
      "Kubernetes\n",
      "AWS\n",
      "MLflow\n",
      "Technologies & Frameworks\n",
      "PyTorch\n",
      "Scikit-learn\n",
      "Hugging Face\n",
      "OpenCV\n",
      "FastAPI\n",
      "React\n",
      "Docker\n",
      "AWS\n",
      "Featured Projects\n",
      "\n",
      "A showcase of cutting-edge ML solutions that demonstrate technical expertise and real-world impact\n",
      "\n",
      "Featured\n",
      "Multilingual Retrieval Augmented Generation System\n",
      "\n",
      "This project implements a Retrieval Augmented Generation (RAG) pipeline designed to answer questions based on a provided PDF document, specifically handling both Bengali and English text. It features robust text extraction, intelligent chunking, hybrid retrieval (semantic and lexical search), and re-ranking to deliver highly relevant context for a Large Language Model (LLM).\n",
      "\n",
      "Pyhton\n",
      "EasyOCR\n",
      "Sentence-Transformers\n",
      "LangChain\n",
      "FAISS\n",
      "Streamlit\n",
      "Code\n",
      "Featured\n",
      "Pose Estimation of Vehicles in Bangladesh using YOLOv8\n",
      "\n",
      "This project focuses on enhancing vehicle pose estimation for autonomous driving systems using the YOLOv8 deep learning model. The model is fine-tuned and trained on the CarFusion dataset using about 30,000 images. It was further improved with a custom dataset that captures unique traffic conditions in various regions of Bangladesh.\n",
      "\n",
      "Python\n",
      "YOLOv8\n",
      "Roboflow\n",
      "OpenCV\n",
      "Code\n",
      "Paper\n",
      "Other Notable Projects\n",
      "Supervised Machine Learning-Based Heart Disease Classification\n",
      "\n",
      "A comprehensive machine learning project for predicting heart disease using multiple classification algorithms.\n",
      "\n",
      "Scikit Learn\n",
      "NumPy\n",
      "Pandas\n",
      "Matplotlib\n",
      "Professional Experience\n",
      "\n",
      "Building AI solutions end-to-end, from model development to intuitive UIs, for research, startups, and enterprise environments\n",
      "\n",
      "Data Analyst\n",
      "\n",
      "Crown International Corporation\n",
      "\n",
      "Jan 2023 - Present\n",
      "Dhaka, Bangladesh\n",
      "Conducted exploratory data analysis using SQL, extracting key insights from structured datasets\n",
      "Utilized Pandas, NumPy, Matplotlib, and Seaborn to clean data, visualize trends, and support strategic business decisions\n",
      "Python\n",
      "SQL\n",
      "NumPy\n",
      "Pandas\n",
      "Matplotlib\n",
      "Seaborn\n",
      "AI/ML Researcher\n",
      "\n",
      "North South University\n",
      "\n",
      "Sept 2023 - Dec 2024\n",
      "Dhaka, Bangladesh\n",
      "Led research and developed a novel deep learning-based vehicle pose estimation system using the YOLOv8 model, optimizing it for real-time autonomous driving scenarios\n",
      "Fine-tuned a pre-trained human pose estimation model (YOLOv8m-pose) using transfer learning techniques on car keypoint data for high accuracy in dynamic traffic environments\n",
      "Transformed and normalized a large-scale dataset (CarFusion) from COCO to YOLO format, handling 30,000 images and addressing keypoint boundary inconsistencies and visibility issues\n",
      "Created a custom annotated dataset tailored to Bangladeshi traffic conditions, incorporating diverse vehicle types (e.g., tuktuks, rickshaws, buses, two-wheelers), to address domain gaps in public datasets.\n",
      "Executed hyperparameter tuning using a genetic algorithm with the AdamW optimizer on NVIDIA RTX 2080 SUPER GPU, achieving 76.7% precision and 84.7% recall for bounding boxes, and 76.7% precision and 83.7% recall for pose estimation, along with a mAP50 of 86.3%.\n",
      "Optimized the pose estimation model using YOLOv8m-pose (26.4M parameters) to balance accuracy and computational cost, enabling deployment on edge devices\n",
      "Presented reasearch work on 13th International Conference on Electrical and Computer Engineering and published paper on IEEE Xplore\n",
      "Python\n",
      "YOLOv8\n",
      "Roboflow\n",
      "OpenCV\n",
      "FrontEnd Developer and IT Support Specialist\n",
      "\n",
      "Crown International Corporation\n",
      "\n",
      "May 2021 - Dec 2022\n",
      "Dhaka, Bangladesh\n",
      "Led the design and development of a responsive business website with a focus on user experience, performance, and web security\n",
      "Achieved an average score of 95/100 in Performance, Accessibility, Best Practices, and SEO for both mobile and desktop, as measured by Google PageSpeed Insights\n",
      "Set up and managed Windows Active Directory, configured routers and firewalls, and performed regular software updates to ensure system stability and security\n",
      "HTML\n",
      "CSS\n",
      "Bootstrap\n",
      "JavaScript\n",
      "Let's Work Together\n",
      "\n",
      "Ready to build the next generation of AI solutions? Let's discuss how we can create something amazing together.\n",
      "\n",
      "Get In Touch\n",
      "\n",
      "I'm always interested in exciting opportunities and collaborations in AI/ML.\n",
      "\n",
      "Email\n",
      "\n",
      "tanzir.razzaque@gmail.com\n",
      "\n",
      "Location\n",
      "\n",
      "Dhaka, Bangladesh\n",
      "\n",
      "GitHub\n",
      "LinkedIn\n"
     ]
    }
   ],
   "source": [
    "print(user_prompt_for(tanzir))"
   ]
  },
  {
   "cell_type": "code",
   "execution_count": 68,
   "id": "d5e4a35d",
   "metadata": {},
   "outputs": [],
   "source": [
    "def messages_for(website):\n",
    "    return [\n",
    "        {\"role\": \"system\", \"content\": system_prompt},\n",
    "        {\"role\": \"user\", \"content\": user_prompt_for(website)}\n",
    "    ]"
   ]
  },
  {
   "cell_type": "code",
   "execution_count": 69,
   "id": "e665b55d",
   "metadata": {},
   "outputs": [
    {
     "data": {
      "text/plain": [
       "[{'role': 'system',\n",
       "  'content': 'You are an assistant that analyzes the contents of a website and provides a short summary, ignoring text that might be navigation related. Respond in markdown.'},\n",
       " {'role': 'user',\n",
       "  'content': \"You are looking at a website titled Tanzir Razzaque AI/ML Engineer Portfolio\\nThe contents of this website is as follows; please provide a short summary of this website in markdown. If it includes news or announcements, then summarize these too.\\n\\nTanzir Razzaque\\nAbout\\nSkills\\nProjects\\nExperience\\nContact\\nAI/ML Engineer\\nBuilding the Future with\\nArtificial Intelligence\\n\\nPassionate about creating intelligent systems that solve real-world problems. Specializing in machine learning, deep learning, and AI research.\\n\\nView My Work\\nContact\\nAbout Me\\nTransforming Ideas into Intelligent Solutions\\n\\nI'm a passionate AI/ML engineer with a deep commitment to pushing the boundaries of artificial intelligence. With over 2 years of experience as a data analyst and AI researcher, I specialize in building production-ready ML systems that solve real-world problems.\\n\\nMy expertise lies in the intersection of deep learning research and practical implementation. My work spans from developing pose estimation systems for autonomous vehicles to creating multilingual RAG pipelines and domain-specific datasets.\\n\\nWhen I'm not training neural networks, you'll find me exploring the latest research in areas like Computer Vision, Large Language Models, and Agentic AI.\\n\\nTechnical Expertise\\n\\nA comprehensive skill set spanning the entire ML pipeline, from research to production deployment\\n\\nMachine Learning\\nDeep Learning\\nComputer Vision\\nNLP\\nReinforcement Learning\\nProgramming\\nPython\\nJavascript\\nC++\\nJava\\nFull Stack\\nReact\\nNodeJS\\nExpressJS\\nSQL\\nMLOps & Infrastructure\\nDocker\\nKubernetes\\nAWS\\nMLflow\\nTechnologies & Frameworks\\nPyTorch\\nScikit-learn\\nHugging Face\\nOpenCV\\nFastAPI\\nReact\\nDocker\\nAWS\\nFeatured Projects\\n\\nA showcase of cutting-edge ML solutions that demonstrate technical expertise and real-world impact\\n\\nFeatured\\nMultilingual Retrieval Augmented Generation System\\n\\nThis project implements a Retrieval Augmented Generation (RAG) pipeline designed to answer questions based on a provided PDF document, specifically handling both Bengali and English text. It features robust text extraction, intelligent chunking, hybrid retrieval (semantic and lexical search), and re-ranking to deliver highly relevant context for a Large Language Model (LLM).\\n\\nPyhton\\nEasyOCR\\nSentence-Transformers\\nLangChain\\nFAISS\\nStreamlit\\nCode\\nFeatured\\nPose Estimation of Vehicles in Bangladesh using YOLOv8\\n\\nThis project focuses on enhancing vehicle pose estimation for autonomous driving systems using the YOLOv8 deep learning model. The model is fine-tuned and trained on the CarFusion dataset using about 30,000 images. It was further improved with a custom dataset that captures unique traffic conditions in various regions of Bangladesh.\\n\\nPython\\nYOLOv8\\nRoboflow\\nOpenCV\\nCode\\nPaper\\nOther Notable Projects\\nSupervised Machine Learning-Based Heart Disease Classification\\n\\nA comprehensive machine learning project for predicting heart disease using multiple classification algorithms.\\n\\nScikit Learn\\nNumPy\\nPandas\\nMatplotlib\\nProfessional Experience\\n\\nBuilding AI solutions end-to-end, from model development to intuitive UIs, for research, startups, and enterprise environments\\n\\nData Analyst\\n\\nCrown International Corporation\\n\\nJan 2023 - Present\\nDhaka, Bangladesh\\nConducted exploratory data analysis using SQL, extracting key insights from structured datasets\\nUtilized Pandas, NumPy, Matplotlib, and Seaborn to clean data, visualize trends, and support strategic business decisions\\nPython\\nSQL\\nNumPy\\nPandas\\nMatplotlib\\nSeaborn\\nAI/ML Researcher\\n\\nNorth South University\\n\\nSept 2023 - Dec 2024\\nDhaka, Bangladesh\\nLed research and developed a novel deep learning-based vehicle pose estimation system using the YOLOv8 model, optimizing it for real-time autonomous driving scenarios\\nFine-tuned a pre-trained human pose estimation model (YOLOv8m-pose) using transfer learning techniques on car keypoint data for high accuracy in dynamic traffic environments\\nTransformed and normalized a large-scale dataset (CarFusion) from COCO to YOLO format, handling 30,000 images and addressing keypoint boundary inconsistencies and visibility issues\\nCreated a custom annotated dataset tailored to Bangladeshi traffic conditions, incorporating diverse vehicle types (e.g., tuktuks, rickshaws, buses, two-wheelers), to address domain gaps in public datasets.\\nExecuted hyperparameter tuning using a genetic algorithm with the AdamW optimizer on NVIDIA RTX 2080 SUPER GPU, achieving 76.7% precision and 84.7% recall for bounding boxes, and 76.7% precision and 83.7% recall for pose estimation, along with a mAP50 of 86.3%.\\nOptimized the pose estimation model using YOLOv8m-pose (26.4M parameters) to balance accuracy and computational cost, enabling deployment on edge devices\\nPresented reasearch work on 13th International Conference on Electrical and Computer Engineering and published paper on IEEE Xplore\\nPython\\nYOLOv8\\nRoboflow\\nOpenCV\\nFrontEnd Developer and IT Support Specialist\\n\\nCrown International Corporation\\n\\nMay 2021 - Dec 2022\\nDhaka, Bangladesh\\nLed the design and development of a responsive business website with a focus on user experience, performance, and web security\\nAchieved an average score of 95/100 in Performance, Accessibility, Best Practices, and SEO for both mobile and desktop, as measured by Google PageSpeed Insights\\nSet up and managed Windows Active Directory, configured routers and firewalls, and performed regular software updates to ensure system stability and security\\nHTML\\nCSS\\nBootstrap\\nJavaScript\\nLet's Work Together\\n\\nReady to build the next generation of AI solutions? Let's discuss how we can create something amazing together.\\n\\nGet In Touch\\n\\nI'm always interested in exciting opportunities and collaborations in AI/ML.\\n\\nEmail\\n\\ntanzir.razzaque@gmail.com\\n\\nLocation\\n\\nDhaka, Bangladesh\\n\\nGitHub\\nLinkedIn\"}]"
      ]
     },
     "execution_count": 69,
     "metadata": {},
     "output_type": "execute_result"
    }
   ],
   "source": [
    "messages_for(tanzir)"
   ]
  },
  {
   "cell_type": "code",
   "execution_count": 79,
   "id": "69297ff1",
   "metadata": {},
   "outputs": [],
   "source": [
    "#Summarize \n",
    "async def summarize(url):\n",
    "    website = await Website.create(url)\n",
    "    response = openai.chat.completions.create(\n",
    "        model = \"gpt-4o-mini\",\n",
    "        messages = messages_for(website)\n",
    "    )\n",
    "    return response.choices[0].message.content"
   ]
  },
  {
   "cell_type": "code",
   "execution_count": 85,
   "id": "1e17b188",
   "metadata": {},
   "outputs": [],
   "source": [
    "# A function to display this nicely in the Jupyter output, using markdown\n",
    "\n",
    "async def display_summary(url):\n",
    "    summary = await summarize(url)\n",
    "    display(Markdown(summary))"
   ]
  },
  {
   "cell_type": "code",
   "execution_count": 86,
   "id": "b866dadd",
   "metadata": {},
   "outputs": [
    {
     "data": {
      "text/markdown": [
       "## Summary of Tanzir Razzaque AI/ML Engineer Portfolio\n",
       "\n",
       "Tanzir Razzaque is an AI/ML Engineer with a strong passion for creating intelligent systems that address real-world problems. With over two years of experience in data analysis and AI research, he specializes in developing production-ready machine learning systems.\n",
       "\n",
       "### About\n",
       "- **Background**: Committed to advancing the field of artificial intelligence through practical implementation and research, focusing on deep learning and AI.\n",
       "- **Interests**: Computer Vision, Large Language Models, and Agentic AI.\n",
       "\n",
       "### Skills\n",
       "- **Machine Learning & Deep Learning**: Comprehensive skills across the ML pipeline, including reinforcement learning.\n",
       "- **Programming Languages**: Proficient in Python, JavaScript, C++, and Java.\n",
       "- **Full Stack Development**: Expertise in React, NodeJS, and ExpressJS.\n",
       "- **MLOps & Infrastructure**: Experience with Docker, Kubernetes, and AWS.\n",
       "\n",
       "### Featured Projects\n",
       "1. **Multilingual Retrieval Augmented Generation System**: An intelligent system that answers questions from PDF documents in both Bengali and English using an RAG pipeline.\n",
       "2. **Pose Estimation of Vehicles in Bangladesh**: Enhances vehicle pose estimation with YOLOv8 for autonomous systems, optimized for the unique traffic conditions of Bangladesh.\n",
       "3. **Heart Disease Classification**: A machine learning project predicting heart disease using multiple classification algorithms.\n",
       "\n",
       "### Experience\n",
       "- **Data Analyst** at Crown International Corporation: Analyzing data and extracting insights using SQL and data visualization tools.\n",
       "- **AI/ML Researcher** at North South University: Leading the development of a vehicle pose estimation system, presenting findings at an international conference, and publishing research on IEEE Xplore.\n",
       "- **FrontEnd Developer** at Crown International Corporation: Developed a high-performance responsive website and managed IT infrastructure.\n",
       "\n",
       "### Contact\n",
       "Tanzir is open to opportunities and collaborations in AI/ML. He can be reached at tanzir.razzaque@gmail.com, and is based in Dhaka, Bangladesh.\n",
       "\n",
       "**Links**: [GitHub](#) | [LinkedIn](#)"
      ],
      "text/plain": [
       "<IPython.core.display.Markdown object>"
      ]
     },
     "metadata": {},
     "output_type": "display_data"
    }
   ],
   "source": [
    "await display_summary(\"https://tanzirr.netlify.app/\")"
   ]
  },
  {
   "cell_type": "code",
   "execution_count": null,
   "id": "47a522e2",
   "metadata": {},
   "outputs": [],
   "source": []
  }
 ],
 "metadata": {
  "kernelspec": {
   "display_name": ".venv",
   "language": "python",
   "name": "python3"
  },
  "language_info": {
   "codemirror_mode": {
    "name": "ipython",
    "version": 3
   },
   "file_extension": ".py",
   "mimetype": "text/x-python",
   "name": "python",
   "nbconvert_exporter": "python",
   "pygments_lexer": "ipython3",
   "version": "3.12.11"
  }
 },
 "nbformat": 4,
 "nbformat_minor": 5
}
