{
 "cells": [
  {
   "cell_type": "code",
   "execution_count": 1,
   "id": "47c3a6b3",
   "metadata": {},
   "outputs": [
    {
     "name": "stderr",
     "output_type": "stream",
     "text": [
      "/home/python/llm_projects/.venv/lib/python3.12/site-packages/tqdm/auto.py:21: TqdmWarning: IProgress not found. Please update jupyter and ipywidgets. See https://ipywidgets.readthedocs.io/en/stable/user_install.html\n",
      "  from .autonotebook import tqdm as notebook_tqdm\n"
     ]
    }
   ],
   "source": [
    "import os\n",
    "import json\n",
    "from openai import OpenAI\n",
    "from dotenv import load_dotenv\n",
    "import gradio as gr"
   ]
  },
  {
   "cell_type": "code",
   "execution_count": 2,
   "id": "3e5fca22",
   "metadata": {},
   "outputs": [
    {
     "name": "stdout",
     "output_type": "stream",
     "text": [
      "OPENAI_API_KEY: sk-proj- exists\n"
     ]
    }
   ],
   "source": [
    "load_dotenv(override=True)\n",
    "open_api_key = os.getenv(\"OPENAI_API_KEY\")\n",
    "if open_api_key:\n",
    "    print(f'OPENAI_API_KEY: {open_api_key[:8]} exists')"
   ]
  },
  {
   "cell_type": "code",
   "execution_count": 3,
   "id": "5ad00d44",
   "metadata": {},
   "outputs": [],
   "source": [
    "openai = OpenAI()\n",
    "MODEL = \"gpt-4o-mini\""
   ]
  },
  {
   "cell_type": "code",
   "execution_count": 4,
   "id": "479d7694",
   "metadata": {},
   "outputs": [],
   "source": [
    "system_message = \"You are a helpful assistant for an Airline called FlightAI. \"\n",
    "system_message += \"Give short, courteous answers, no more than 1 sentence. \"\n",
    "system_message += \"Always be accurate. If you don't know the answer, say so.\""
   ]
  },
  {
   "cell_type": "code",
   "execution_count": 5,
   "id": "1ed1b779",
   "metadata": {},
   "outputs": [
    {
     "name": "stdout",
     "output_type": "stream",
     "text": [
      "Ticket price for Canada called\n"
     ]
    },
    {
     "data": {
      "text/plain": [
       "'BDT 25000'"
      ]
     },
     "execution_count": 5,
     "metadata": {},
     "output_type": "execute_result"
    }
   ],
   "source": [
    "ticket_price = {\n",
    "    \"usa\": \"BDT 20000\",\n",
    "    \"canada\": \"BDT 25000\",\n",
    "    \"uk\": \"BDT 30000\",\n",
    "    \"australia\": \"BDT 35000\"\n",
    "}\n",
    "\n",
    "def get_ticket_prices(destination):\n",
    "    print(f\"Ticket price for {destination} called\")\n",
    "    city = destination.lower()\n",
    "    return ticket_price.get(city, \"Sorry, we do not fly to that destination.\")\n",
    "get_ticket_prices(\"Canada\")"
   ]
  },
  {
   "cell_type": "code",
   "execution_count": 6,
   "id": "640ada2e",
   "metadata": {},
   "outputs": [],
   "source": [
    "# Tool definition for function calling\n",
    "price_function = {\n",
    "    \"name\": \"get_ticket_price\",\n",
    "    \"description\": \"Get the price of a return ticket to the destination city. Call this whenever you need to know the ticket price, for example when a customer asks 'How much is a ticket to this city'\",\n",
    "    \"parameters\": {\n",
    "        \"type\": \"object\",\n",
    "        \"properties\": {\n",
    "            \"destination_city\": {\n",
    "                \"type\": \"string\",\n",
    "                \"description\": \"The city that the customer wants to travel to\",\n",
    "            },\n",
    "        },\n",
    "        \"required\": [\"destination_city\"],\n",
    "        \"additionalProperties\": False\n",
    "    }\n",
    "}"
   ]
  },
  {
   "cell_type": "code",
   "execution_count": 7,
   "id": "88eb151a",
   "metadata": {},
   "outputs": [],
   "source": [
    "tools = [{\"type\": \"function\", \"function\": price_function}]"
   ]
  },
  {
   "cell_type": "markdown",
   "id": "929ade04",
   "metadata": {},
   "source": [
    "Response \n",
    "```json{\n",
    "    \"id\": \"chatcmpl-8IgndNLKqbrDT0jHxsuSA5t76uF0m\",\n",
    "    \"object\": \"chat.completion\",\n",
    "    \"created\": 1699465117,\n",
    "    \"model\": \"gpt-3.5-turbo-0613\",\n",
    "    \"choices\": [\n",
    "        {\n",
    "            \"index\": 0,\n",
    "            \"message\": {\n",
    "                \"role\": \"assistant\",\n",
    "                \"content\": null,\n",
    "                \"tool_calls\": [\n",
    "                    {\n",
    "                        \"id\": \"call_SDhXnJbvxSWwy1m1R1J43EmQ\",\n",
    "                        \"type\": \"function\",\n",
    "                        \"function\": {\n",
    "                            \"name\": \"getLocation\",\n",
    "                            \"arguments\": \"{}\"\n",
    "                        }\n",
    "                    }\n",
    "                ]\n",
    "            },\n",
    "            \"finish_reason\": \"tool_calls\"\n",
    "        }\n",
    "    ],\n",
    "    \"usage\": {\n",
    "        \"prompt_tokens\": 95,\n",
    "        \"completion_tokens\": 6,\n",
    "        \"total_tokens\": 101\n",
    "    }\n",
    "}\n",
    "```"
   ]
  },
  {
   "cell_type": "code",
   "execution_count": null,
   "id": "df2a447f",
   "metadata": {},
   "outputs": [],
   "source": [
    "def chat(message, history):\n",
    "    messages = [{\"role\": \"system\", \"content\": system_message}] + history + [{\"role\": \"user\", \"content\": message}]\n",
    "    response = openai.chat.completions.create(model=MODEL, messages=messages, tools=tools)\n",
    "\n",
    "    if response.choices[0].finish_reason==\"tool_calls\":\n",
    "        message = response.choices[0].message\n",
    "        response, city = handle_tool_call(message)\n",
    "        messages.append(message)\n",
    "        messages.append(response)\n",
    "        response = openai.chat.completions.create(model=MODEL, messages=messages)\n",
    "    \n",
    "    return response.choices[0].message.content "
   ]
  },
  {
   "cell_type": "markdown",
   "id": "6421a92b",
   "metadata": {},
   "source": [
    "```json \n",
    "{\n",
    "  \"message_appended\": {\n",
    "    \"content\": null,\n",
    "    \"refusal\": null,\n",
    "    \"role\": \"assistant\",\n",
    "    \"annotations\": [],\n",
    "    \"audio\": null,\n",
    "    \"function_call\": null,\n",
    "    \"tool_calls\": [\n",
    "      {\n",
    "        \"id\": \"call_EzAvAif0eL9y5fClyKJIvKD4\",\n",
    "        \"function\": {\n",
    "          \"arguments\": {\n",
    "            \"destination_city\": \"Canada\"\n",
    "          },\n",
    "          \"name\": \"get_ticket_price\"\n",
    "        },\n",
    "        \"type\": \"function\"\n",
    "      }\n",
    "    ]\n",
    "  },\n",
    "  \"response_appended\": {\n",
    "    \"role\": \"tool\",\n",
    "    \"content\": {\n",
    "      \"destination_city\": \"Canada\",\n",
    "      \"price\": \"BDT 25000\"\n",
    "    },\n",
    "    \"tool_call_id\": \"call_EzAvAif0eL9y5fClyKJIvKD4\"\n",
    "  }\n",
    "}\n",
    "\n",
    "\n",
    "```"
   ]
  },
  {
   "cell_type": "code",
   "execution_count": 9,
   "id": "5f0c379b",
   "metadata": {},
   "outputs": [],
   "source": [
    "def handle_tool_call(message):\n",
    "    tool_call = message.tool_calls[0]\n",
    "    arguments = json.loads(tool_call.function.arguments)\n",
    "    city = arguments.get('destination_city')\n",
    "    price = get_ticket_prices(city)\n",
    "    response = {\n",
    "        \"role\": \"tool\",\n",
    "        \"content\": json.dumps({\"destination_city\": city,\"price\": price}),\n",
    "        \"tool_call_id\": tool_call.id\n",
    "    }\n",
    "    return response, city"
   ]
  },
  {
   "cell_type": "code",
   "execution_count": null,
   "id": "ba9b8416",
   "metadata": {},
   "outputs": [
    {
     "name": "stdout",
     "output_type": "stream",
     "text": [
      "* Running on local URL:  http://127.0.0.1:7861\n",
      "* To create a public link, set `share=True` in `launch()`.\n"
     ]
    },
    {
     "data": {
      "text/html": [
       "<div><iframe src=\"http://127.0.0.1:7861/\" width=\"100%\" height=\"500\" allow=\"autoplay; camera; microphone; clipboard-read; clipboard-write;\" frameborder=\"0\" allowfullscreen></iframe></div>"
      ],
      "text/plain": [
       "<IPython.core.display.HTML object>"
      ]
     },
     "metadata": {},
     "output_type": "display_data"
    },
    {
     "data": {
      "text/plain": []
     },
     "execution_count": 13,
     "metadata": {},
     "output_type": "execute_result"
    },
    {
     "name": "stdout",
     "output_type": "stream",
     "text": [
      "Ticket price for Canada called\n",
      "message appended: ChatCompletionMessage(content=None, refusal=None, role='assistant', annotations=[], audio=None, function_call=None, tool_calls=[ChatCompletionMessageFunctionToolCall(id='call_EzAvAif0eL9y5fClyKJIvKD4', function=Function(arguments='{\"destination_city\":\"Canada\"}', name='get_ticket_price'), type='function')])\n",
      "response appended: {'role': 'tool', 'content': '{\"destination_city\": \"Canada\", \"price\": \"BDT 25000\"}', 'tool_call_id': 'call_EzAvAif0eL9y5fClyKJIvKD4'}\n"
     ]
    }
   ],
   "source": [
    "gr.ChatInterface(fn=chat, type=\"messages\").launch()"
   ]
  }
 ],
 "metadata": {
  "kernelspec": {
   "display_name": ".venv",
   "language": "python",
   "name": "python3"
  },
  "language_info": {
   "codemirror_mode": {
    "name": "ipython",
    "version": 3
   },
   "file_extension": ".py",
   "mimetype": "text/x-python",
   "name": "python",
   "nbconvert_exporter": "python",
   "pygments_lexer": "ipython3",
   "version": "3.12.11"
  }
 },
 "nbformat": 4,
 "nbformat_minor": 5
}
